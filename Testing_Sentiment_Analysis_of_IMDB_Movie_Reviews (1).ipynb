{
 "cells": [
  {
   "cell_type": "code",
   "execution_count": null,
   "id": "ad364dd9",
   "metadata": {},
   "outputs": [],
   "source": [
    "SVM_tfidf_ IMDB_Movie_Reviews.sav"
   ]
  },
  {
   "cell_type": "code",
   "execution_count": 30,
   "id": "79303ba4",
   "metadata": {},
   "outputs": [],
   "source": [
    "import pandas as pd\n",
    "import numpy as np\n",
    "import nltk\n",
    "import re\n",
    "from nltk.corpus import stopwords\n",
    "from nltk.stem import WordNetLemmatizer\n",
    "import seaborn as sns\n",
    "from bs4 import BeautifulSoup"
   ]
  },
  {
   "cell_type": "code",
   "execution_count": 31,
   "id": "c98c5c63",
   "metadata": {},
   "outputs": [],
   "source": [
    "df = pd.read_csv(\"IMDB Dataset.csv\")"
   ]
  },
  {
   "cell_type": "code",
   "execution_count": 32,
   "id": "5b9385c8",
   "metadata": {},
   "outputs": [
    {
     "data": {
      "text/html": [
       "<div>\n",
       "<style scoped>\n",
       "    .dataframe tbody tr th:only-of-type {\n",
       "        vertical-align: middle;\n",
       "    }\n",
       "\n",
       "    .dataframe tbody tr th {\n",
       "        vertical-align: top;\n",
       "    }\n",
       "\n",
       "    .dataframe thead th {\n",
       "        text-align: right;\n",
       "    }\n",
       "</style>\n",
       "<table border=\"1\" class=\"dataframe\">\n",
       "  <thead>\n",
       "    <tr style=\"text-align: right;\">\n",
       "      <th></th>\n",
       "      <th>review</th>\n",
       "      <th>sentiment</th>\n",
       "    </tr>\n",
       "  </thead>\n",
       "  <tbody>\n",
       "    <tr>\n",
       "      <th>0</th>\n",
       "      <td>One of the other reviewers has mentioned that ...</td>\n",
       "      <td>positive</td>\n",
       "    </tr>\n",
       "    <tr>\n",
       "      <th>1</th>\n",
       "      <td>A wonderful little production. &lt;br /&gt;&lt;br /&gt;The...</td>\n",
       "      <td>positive</td>\n",
       "    </tr>\n",
       "    <tr>\n",
       "      <th>2</th>\n",
       "      <td>I thought this was a wonderful way to spend ti...</td>\n",
       "      <td>positive</td>\n",
       "    </tr>\n",
       "    <tr>\n",
       "      <th>3</th>\n",
       "      <td>Basically there's a family where a little boy ...</td>\n",
       "      <td>negative</td>\n",
       "    </tr>\n",
       "    <tr>\n",
       "      <th>4</th>\n",
       "      <td>Petter Mattei's \"Love in the Time of Money\" is...</td>\n",
       "      <td>positive</td>\n",
       "    </tr>\n",
       "  </tbody>\n",
       "</table>\n",
       "</div>"
      ],
      "text/plain": [
       "                                              review sentiment\n",
       "0  One of the other reviewers has mentioned that ...  positive\n",
       "1  A wonderful little production. <br /><br />The...  positive\n",
       "2  I thought this was a wonderful way to spend ti...  positive\n",
       "3  Basically there's a family where a little boy ...  negative\n",
       "4  Petter Mattei's \"Love in the Time of Money\" is...  positive"
      ]
     },
     "execution_count": 32,
     "metadata": {},
     "output_type": "execute_result"
    }
   ],
   "source": [
    "df.head()"
   ]
  },
  {
   "cell_type": "code",
   "execution_count": 33,
   "id": "23b57665",
   "metadata": {},
   "outputs": [],
   "source": [
    "df=df.iloc[10000:10200,:]"
   ]
  },
  {
   "cell_type": "code",
   "execution_count": 34,
   "id": "0e3f87a9",
   "metadata": {},
   "outputs": [
    {
     "data": {
      "text/html": [
       "<div>\n",
       "<style scoped>\n",
       "    .dataframe tbody tr th:only-of-type {\n",
       "        vertical-align: middle;\n",
       "    }\n",
       "\n",
       "    .dataframe tbody tr th {\n",
       "        vertical-align: top;\n",
       "    }\n",
       "\n",
       "    .dataframe thead th {\n",
       "        text-align: right;\n",
       "    }\n",
       "</style>\n",
       "<table border=\"1\" class=\"dataframe\">\n",
       "  <thead>\n",
       "    <tr style=\"text-align: right;\">\n",
       "      <th></th>\n",
       "      <th>review</th>\n",
       "      <th>sentiment</th>\n",
       "    </tr>\n",
       "  </thead>\n",
       "  <tbody>\n",
       "    <tr>\n",
       "      <th>10000</th>\n",
       "      <td>\" While sporadically engrossing (including a f...</td>\n",
       "      <td>negative</td>\n",
       "    </tr>\n",
       "    <tr>\n",
       "      <th>10001</th>\n",
       "      <td>A French novelist, disgusted by his wife's soc...</td>\n",
       "      <td>positive</td>\n",
       "    </tr>\n",
       "    <tr>\n",
       "      <th>10002</th>\n",
       "      <td>It must be remembered that the Gammera movies,...</td>\n",
       "      <td>negative</td>\n",
       "    </tr>\n",
       "    <tr>\n",
       "      <th>10003</th>\n",
       "      <td>I gave this film 8 out of 10, reserving 10 for...</td>\n",
       "      <td>positive</td>\n",
       "    </tr>\n",
       "    <tr>\n",
       "      <th>10004</th>\n",
       "      <td>Cheap, gloriously bad cheese from the 80's, th...</td>\n",
       "      <td>negative</td>\n",
       "    </tr>\n",
       "  </tbody>\n",
       "</table>\n",
       "</div>"
      ],
      "text/plain": [
       "                                                  review sentiment\n",
       "10000  \" While sporadically engrossing (including a f...  negative\n",
       "10001  A French novelist, disgusted by his wife's soc...  positive\n",
       "10002  It must be remembered that the Gammera movies,...  negative\n",
       "10003  I gave this film 8 out of 10, reserving 10 for...  positive\n",
       "10004  Cheap, gloriously bad cheese from the 80's, th...  negative"
      ]
     },
     "execution_count": 34,
     "metadata": {},
     "output_type": "execute_result"
    }
   ],
   "source": [
    "df.head()"
   ]
  },
  {
   "cell_type": "code",
   "execution_count": 43,
   "id": "3ee87c8d",
   "metadata": {},
   "outputs": [
    {
     "data": {
      "text/html": [
       "<div>\n",
       "<style scoped>\n",
       "    .dataframe tbody tr th:only-of-type {\n",
       "        vertical-align: middle;\n",
       "    }\n",
       "\n",
       "    .dataframe tbody tr th {\n",
       "        vertical-align: top;\n",
       "    }\n",
       "\n",
       "    .dataframe thead th {\n",
       "        text-align: right;\n",
       "    }\n",
       "</style>\n",
       "<table border=\"1\" class=\"dataframe\">\n",
       "  <thead>\n",
       "    <tr style=\"text-align: right;\">\n",
       "      <th></th>\n",
       "      <th>review</th>\n",
       "      <th>sentiment</th>\n",
       "    </tr>\n",
       "  </thead>\n",
       "  <tbody>\n",
       "    <tr>\n",
       "      <th>10000</th>\n",
       "      <td>\" While sporadically engrossing (including a f...</td>\n",
       "      <td>negative</td>\n",
       "    </tr>\n",
       "    <tr>\n",
       "      <th>10001</th>\n",
       "      <td>A French novelist, disgusted by his wife's soc...</td>\n",
       "      <td>positive</td>\n",
       "    </tr>\n",
       "    <tr>\n",
       "      <th>10002</th>\n",
       "      <td>It must be remembered that the Gammera movies,...</td>\n",
       "      <td>negative</td>\n",
       "    </tr>\n",
       "    <tr>\n",
       "      <th>10003</th>\n",
       "      <td>I gave this film 8 out of 10, reserving 10 for...</td>\n",
       "      <td>positive</td>\n",
       "    </tr>\n",
       "    <tr>\n",
       "      <th>10004</th>\n",
       "      <td>Cheap, gloriously bad cheese from the 80's, th...</td>\n",
       "      <td>negative</td>\n",
       "    </tr>\n",
       "    <tr>\n",
       "      <th>...</th>\n",
       "      <td>...</td>\n",
       "      <td>...</td>\n",
       "    </tr>\n",
       "    <tr>\n",
       "      <th>10195</th>\n",
       "      <td>I only gave this film a 4 because I saw it in ...</td>\n",
       "      <td>negative</td>\n",
       "    </tr>\n",
       "    <tr>\n",
       "      <th>10196</th>\n",
       "      <td>This totally UNfunny movie is so over the top ...</td>\n",
       "      <td>negative</td>\n",
       "    </tr>\n",
       "    <tr>\n",
       "      <th>10197</th>\n",
       "      <td>Holy cow, what a piece of sh*t this movie is. ...</td>\n",
       "      <td>negative</td>\n",
       "    </tr>\n",
       "    <tr>\n",
       "      <th>10198</th>\n",
       "      <td>This is without doubt Rajnikanth's worst movie...</td>\n",
       "      <td>negative</td>\n",
       "    </tr>\n",
       "    <tr>\n",
       "      <th>10199</th>\n",
       "      <td>Watching Showtime I got the impression that th...</td>\n",
       "      <td>negative</td>\n",
       "    </tr>\n",
       "  </tbody>\n",
       "</table>\n",
       "<p>200 rows × 2 columns</p>\n",
       "</div>"
      ],
      "text/plain": [
       "                                                  review sentiment\n",
       "10000  \" While sporadically engrossing (including a f...  negative\n",
       "10001  A French novelist, disgusted by his wife's soc...  positive\n",
       "10002  It must be remembered that the Gammera movies,...  negative\n",
       "10003  I gave this film 8 out of 10, reserving 10 for...  positive\n",
       "10004  Cheap, gloriously bad cheese from the 80's, th...  negative\n",
       "...                                                  ...       ...\n",
       "10195  I only gave this film a 4 because I saw it in ...  negative\n",
       "10196  This totally UNfunny movie is so over the top ...  negative\n",
       "10197  Holy cow, what a piece of sh*t this movie is. ...  negative\n",
       "10198  This is without doubt Rajnikanth's worst movie...  negative\n",
       "10199  Watching Showtime I got the impression that th...  negative\n",
       "\n",
       "[200 rows x 2 columns]"
      ]
     },
     "execution_count": 43,
     "metadata": {},
     "output_type": "execute_result"
    }
   ],
   "source": [
    "df"
   ]
  },
  {
   "cell_type": "code",
   "execution_count": 35,
   "id": "3bb3fa4d",
   "metadata": {},
   "outputs": [
    {
     "data": {
      "text/plain": [
       "(200, 2)"
      ]
     },
     "execution_count": 35,
     "metadata": {},
     "output_type": "execute_result"
    }
   ],
   "source": [
    "df.shape"
   ]
  },
  {
   "cell_type": "code",
   "execution_count": 36,
   "id": "f1f2012b",
   "metadata": {},
   "outputs": [],
   "source": [
    "actual=df['sentiment']"
   ]
  },
  {
   "cell_type": "code",
   "execution_count": 37,
   "id": "0833a1a8",
   "metadata": {},
   "outputs": [
    {
     "data": {
      "text/plain": [
       "10000    negative\n",
       "10001    positive\n",
       "10002    negative\n",
       "10003    positive\n",
       "10004    negative\n",
       "           ...   \n",
       "10195    negative\n",
       "10196    negative\n",
       "10197    negative\n",
       "10198    negative\n",
       "10199    negative\n",
       "Name: sentiment, Length: 200, dtype: object"
      ]
     },
     "execution_count": 37,
     "metadata": {},
     "output_type": "execute_result"
    }
   ],
   "source": [
    "actual"
   ]
  },
  {
   "cell_type": "code",
   "execution_count": 9,
   "id": "c4938dfb",
   "metadata": {},
   "outputs": [],
   "source": [
    "df=df.drop(['sentiment'], axis = 1)"
   ]
  },
  {
   "cell_type": "code",
   "execution_count": 10,
   "id": "b347a46b",
   "metadata": {},
   "outputs": [
    {
     "data": {
      "text/html": [
       "<div>\n",
       "<style scoped>\n",
       "    .dataframe tbody tr th:only-of-type {\n",
       "        vertical-align: middle;\n",
       "    }\n",
       "\n",
       "    .dataframe tbody tr th {\n",
       "        vertical-align: top;\n",
       "    }\n",
       "\n",
       "    .dataframe thead th {\n",
       "        text-align: right;\n",
       "    }\n",
       "</style>\n",
       "<table border=\"1\" class=\"dataframe\">\n",
       "  <thead>\n",
       "    <tr style=\"text-align: right;\">\n",
       "      <th></th>\n",
       "      <th>review</th>\n",
       "    </tr>\n",
       "  </thead>\n",
       "  <tbody>\n",
       "    <tr>\n",
       "      <th>10000</th>\n",
       "      <td>\" While sporadically engrossing (including a f...</td>\n",
       "    </tr>\n",
       "    <tr>\n",
       "      <th>10001</th>\n",
       "      <td>A French novelist, disgusted by his wife's soc...</td>\n",
       "    </tr>\n",
       "    <tr>\n",
       "      <th>10002</th>\n",
       "      <td>It must be remembered that the Gammera movies,...</td>\n",
       "    </tr>\n",
       "    <tr>\n",
       "      <th>10003</th>\n",
       "      <td>I gave this film 8 out of 10, reserving 10 for...</td>\n",
       "    </tr>\n",
       "    <tr>\n",
       "      <th>10004</th>\n",
       "      <td>Cheap, gloriously bad cheese from the 80's, th...</td>\n",
       "    </tr>\n",
       "    <tr>\n",
       "      <th>...</th>\n",
       "      <td>...</td>\n",
       "    </tr>\n",
       "    <tr>\n",
       "      <th>10195</th>\n",
       "      <td>I only gave this film a 4 because I saw it in ...</td>\n",
       "    </tr>\n",
       "    <tr>\n",
       "      <th>10196</th>\n",
       "      <td>This totally UNfunny movie is so over the top ...</td>\n",
       "    </tr>\n",
       "    <tr>\n",
       "      <th>10197</th>\n",
       "      <td>Holy cow, what a piece of sh*t this movie is. ...</td>\n",
       "    </tr>\n",
       "    <tr>\n",
       "      <th>10198</th>\n",
       "      <td>This is without doubt Rajnikanth's worst movie...</td>\n",
       "    </tr>\n",
       "    <tr>\n",
       "      <th>10199</th>\n",
       "      <td>Watching Showtime I got the impression that th...</td>\n",
       "    </tr>\n",
       "  </tbody>\n",
       "</table>\n",
       "<p>200 rows × 1 columns</p>\n",
       "</div>"
      ],
      "text/plain": [
       "                                                  review\n",
       "10000  \" While sporadically engrossing (including a f...\n",
       "10001  A French novelist, disgusted by his wife's soc...\n",
       "10002  It must be remembered that the Gammera movies,...\n",
       "10003  I gave this film 8 out of 10, reserving 10 for...\n",
       "10004  Cheap, gloriously bad cheese from the 80's, th...\n",
       "...                                                  ...\n",
       "10195  I only gave this film a 4 because I saw it in ...\n",
       "10196  This totally UNfunny movie is so over the top ...\n",
       "10197  Holy cow, what a piece of sh*t this movie is. ...\n",
       "10198  This is without doubt Rajnikanth's worst movie...\n",
       "10199  Watching Showtime I got the impression that th...\n",
       "\n",
       "[200 rows x 1 columns]"
      ]
     },
     "execution_count": 10,
     "metadata": {},
     "output_type": "execute_result"
    }
   ],
   "source": [
    "df"
   ]
  },
  {
   "cell_type": "code",
   "execution_count": 11,
   "id": "9b4b61ce",
   "metadata": {},
   "outputs": [],
   "source": [
    "df.to_csv('Test_dataset_Sentiment_Analysis_IMDB_Movie_Reviews.csv')"
   ]
  },
  {
   "cell_type": "code",
   "execution_count": 12,
   "id": "b2e3f49d",
   "metadata": {},
   "outputs": [],
   "source": [
    "test = pd.read_csv(\"Test_dataset_Sentiment_Analysis_IMDB_Movie_Reviews.csv\")"
   ]
  },
  {
   "cell_type": "code",
   "execution_count": null,
   "id": "02cf1f21",
   "metadata": {},
   "outputs": [],
   "source": []
  },
  {
   "cell_type": "code",
   "execution_count": 13,
   "id": "282d2389",
   "metadata": {},
   "outputs": [
    {
     "data": {
      "text/html": [
       "<div>\n",
       "<style scoped>\n",
       "    .dataframe tbody tr th:only-of-type {\n",
       "        vertical-align: middle;\n",
       "    }\n",
       "\n",
       "    .dataframe tbody tr th {\n",
       "        vertical-align: top;\n",
       "    }\n",
       "\n",
       "    .dataframe thead th {\n",
       "        text-align: right;\n",
       "    }\n",
       "</style>\n",
       "<table border=\"1\" class=\"dataframe\">\n",
       "  <thead>\n",
       "    <tr style=\"text-align: right;\">\n",
       "      <th></th>\n",
       "      <th>Unnamed: 0</th>\n",
       "      <th>review</th>\n",
       "    </tr>\n",
       "  </thead>\n",
       "  <tbody>\n",
       "    <tr>\n",
       "      <th>0</th>\n",
       "      <td>10000</td>\n",
       "      <td>\" While sporadically engrossing (including a f...</td>\n",
       "    </tr>\n",
       "    <tr>\n",
       "      <th>1</th>\n",
       "      <td>10001</td>\n",
       "      <td>A French novelist, disgusted by his wife's soc...</td>\n",
       "    </tr>\n",
       "    <tr>\n",
       "      <th>2</th>\n",
       "      <td>10002</td>\n",
       "      <td>It must be remembered that the Gammera movies,...</td>\n",
       "    </tr>\n",
       "    <tr>\n",
       "      <th>3</th>\n",
       "      <td>10003</td>\n",
       "      <td>I gave this film 8 out of 10, reserving 10 for...</td>\n",
       "    </tr>\n",
       "    <tr>\n",
       "      <th>4</th>\n",
       "      <td>10004</td>\n",
       "      <td>Cheap, gloriously bad cheese from the 80's, th...</td>\n",
       "    </tr>\n",
       "  </tbody>\n",
       "</table>\n",
       "</div>"
      ],
      "text/plain": [
       "   Unnamed: 0                                             review\n",
       "0       10000  \" While sporadically engrossing (including a f...\n",
       "1       10001  A French novelist, disgusted by his wife's soc...\n",
       "2       10002  It must be remembered that the Gammera movies,...\n",
       "3       10003  I gave this film 8 out of 10, reserving 10 for...\n",
       "4       10004  Cheap, gloriously bad cheese from the 80's, th..."
      ]
     },
     "execution_count": 13,
     "metadata": {},
     "output_type": "execute_result"
    }
   ],
   "source": [
    "test.head()"
   ]
  },
  {
   "cell_type": "code",
   "execution_count": 39,
   "id": "9175f30d",
   "metadata": {},
   "outputs": [],
   "source": [
    "def strip_html(text):\n",
    "    soup = BeautifulSoup(text, \"html.parser\")\n",
    "    return soup.get_text()\n",
    "\n",
    "#Removing the square brackets\n",
    "def remove_between_square_brackets(text):\n",
    "    return re.sub('\\[[^]]*\\]', '', text)\n",
    "\n",
    "#Removing the noisy text\n",
    "def denoise_text(text):\n",
    "    text = strip_html(text)\n",
    "    text = remove_between_square_brackets(text)\n",
    "    return text\n",
    "#Apply function on review column\n",
    "df['review']=df['review'].apply(denoise_text)"
   ]
  },
  {
   "cell_type": "code",
   "execution_count": 14,
   "id": "6cf1a911",
   "metadata": {},
   "outputs": [],
   "source": [
    "def strip_html(text):\n",
    "    soup = BeautifulSoup(text, \"html.parser\")\n",
    "    return soup.get_text()\n",
    "\n",
    "#Removing the square brackets\n",
    "def remove_between_square_brackets(text):\n",
    "    return re.sub('\\[[^]]*\\]', '', text)\n",
    "\n",
    "#Removing the noisy text\n",
    "def denoise_text(text):\n",
    "    text = strip_html(text)\n",
    "    text = remove_between_square_brackets(text)\n",
    "    return text\n",
    "#Apply function on review column\n",
    "test['review']=test['review'].apply(denoise_text)"
   ]
  },
  {
   "cell_type": "code",
   "execution_count": 15,
   "id": "222ff032",
   "metadata": {},
   "outputs": [
    {
     "data": {
      "text/plain": [
       "10000    \" While sporadically engrossing (including a f...\n",
       "10001    A French novelist, disgusted by his wife's soc...\n",
       "10002    It must be remembered that the Gammera movies,...\n",
       "10003    I gave this film 8 out of 10, reserving 10 for...\n",
       "10004    Cheap, gloriously bad cheese from the 80's, th...\n",
       "                               ...                        \n",
       "10195    I only gave this film a 4 because I saw it in ...\n",
       "10196    This totally UNfunny movie is so over the top ...\n",
       "10197    Holy cow, what a piece of sh*t this movie is. ...\n",
       "10198    This is without doubt Rajnikanth's worst movie...\n",
       "10199    Watching Showtime I got the impression that th...\n",
       "Name: review, Length: 200, dtype: object"
      ]
     },
     "execution_count": 15,
     "metadata": {},
     "output_type": "execute_result"
    }
   ],
   "source": [
    "df['review']"
   ]
  },
  {
   "cell_type": "code",
   "execution_count": 16,
   "id": "5993f655",
   "metadata": {},
   "outputs": [
    {
     "data": {
      "text/plain": [
       "200"
      ]
     },
     "execution_count": 16,
     "metadata": {},
     "output_type": "execute_result"
    }
   ],
   "source": [
    "len(df)"
   ]
  },
  {
   "cell_type": "code",
   "execution_count": 41,
   "id": "50b44dd3",
   "metadata": {},
   "outputs": [
    {
     "ename": "KeyError",
     "evalue": "0",
     "output_type": "error",
     "traceback": [
      "\u001b[1;31m---------------------------------------------------------------------------\u001b[0m",
      "\u001b[1;31mValueError\u001b[0m                                Traceback (most recent call last)",
      "\u001b[1;32m~\\anaconda3\\lib\\site-packages\\pandas\\core\\indexes\\range.py\u001b[0m in \u001b[0;36mget_loc\u001b[1;34m(self, key, method, tolerance)\u001b[0m\n\u001b[0;32m    350\u001b[0m                 \u001b[1;32mtry\u001b[0m\u001b[1;33m:\u001b[0m\u001b[1;33m\u001b[0m\u001b[1;33m\u001b[0m\u001b[0m\n\u001b[1;32m--> 351\u001b[1;33m                     \u001b[1;32mreturn\u001b[0m \u001b[0mself\u001b[0m\u001b[1;33m.\u001b[0m\u001b[0m_range\u001b[0m\u001b[1;33m.\u001b[0m\u001b[0mindex\u001b[0m\u001b[1;33m(\u001b[0m\u001b[0mnew_key\u001b[0m\u001b[1;33m)\u001b[0m\u001b[1;33m\u001b[0m\u001b[1;33m\u001b[0m\u001b[0m\n\u001b[0m\u001b[0;32m    352\u001b[0m                 \u001b[1;32mexcept\u001b[0m \u001b[0mValueError\u001b[0m \u001b[1;32mas\u001b[0m \u001b[0merr\u001b[0m\u001b[1;33m:\u001b[0m\u001b[1;33m\u001b[0m\u001b[1;33m\u001b[0m\u001b[0m\n",
      "\u001b[1;31mValueError\u001b[0m: 0 is not in range",
      "\nThe above exception was the direct cause of the following exception:\n",
      "\u001b[1;31mKeyError\u001b[0m                                  Traceback (most recent call last)",
      "\u001b[1;32m<ipython-input-41-2f1b3f8c4106>\u001b[0m in \u001b[0;36m<module>\u001b[1;34m\u001b[0m\n\u001b[0;32m      3\u001b[0m \u001b[1;33m\u001b[0m\u001b[0m\n\u001b[0;32m      4\u001b[0m \u001b[1;32mfor\u001b[0m \u001b[0mi\u001b[0m \u001b[1;32min\u001b[0m \u001b[0mrange\u001b[0m\u001b[1;33m(\u001b[0m\u001b[0mlen\u001b[0m\u001b[1;33m(\u001b[0m\u001b[0mdf\u001b[0m\u001b[1;33m)\u001b[0m\u001b[1;33m)\u001b[0m\u001b[1;33m:\u001b[0m\u001b[1;33m\u001b[0m\u001b[1;33m\u001b[0m\u001b[0m\n\u001b[1;32m----> 5\u001b[1;33m     \u001b[0mreview\u001b[0m\u001b[1;33m=\u001b[0m\u001b[0mre\u001b[0m\u001b[1;33m.\u001b[0m\u001b[0msub\u001b[0m\u001b[1;33m(\u001b[0m\u001b[1;34m'[^a-zA-z]'\u001b[0m\u001b[1;33m,\u001b[0m\u001b[1;34m' '\u001b[0m\u001b[1;33m,\u001b[0m\u001b[0mdf\u001b[0m\u001b[1;33m[\u001b[0m\u001b[1;34m'review'\u001b[0m\u001b[1;33m]\u001b[0m\u001b[1;33m[\u001b[0m\u001b[0mi\u001b[0m\u001b[1;33m]\u001b[0m\u001b[1;33m)\u001b[0m\u001b[1;33m\u001b[0m\u001b[1;33m\u001b[0m\u001b[0m\n\u001b[0m\u001b[0;32m      6\u001b[0m     \u001b[0mreview\u001b[0m\u001b[1;33m=\u001b[0m\u001b[0mreview\u001b[0m\u001b[1;33m.\u001b[0m\u001b[0mlower\u001b[0m\u001b[1;33m(\u001b[0m\u001b[1;33m)\u001b[0m\u001b[1;33m\u001b[0m\u001b[1;33m\u001b[0m\u001b[0m\n\u001b[0;32m      7\u001b[0m     \u001b[0mreview\u001b[0m\u001b[1;33m=\u001b[0m\u001b[0mreview\u001b[0m\u001b[1;33m.\u001b[0m\u001b[0msplit\u001b[0m\u001b[1;33m(\u001b[0m\u001b[1;33m)\u001b[0m\u001b[1;33m\u001b[0m\u001b[1;33m\u001b[0m\u001b[0m\n",
      "\u001b[1;32m~\\anaconda3\\lib\\site-packages\\pandas\\core\\series.py\u001b[0m in \u001b[0;36m__getitem__\u001b[1;34m(self, key)\u001b[0m\n\u001b[0;32m    851\u001b[0m \u001b[1;33m\u001b[0m\u001b[0m\n\u001b[0;32m    852\u001b[0m         \u001b[1;32melif\u001b[0m \u001b[0mkey_is_scalar\u001b[0m\u001b[1;33m:\u001b[0m\u001b[1;33m\u001b[0m\u001b[1;33m\u001b[0m\u001b[0m\n\u001b[1;32m--> 853\u001b[1;33m             \u001b[1;32mreturn\u001b[0m \u001b[0mself\u001b[0m\u001b[1;33m.\u001b[0m\u001b[0m_get_value\u001b[0m\u001b[1;33m(\u001b[0m\u001b[0mkey\u001b[0m\u001b[1;33m)\u001b[0m\u001b[1;33m\u001b[0m\u001b[1;33m\u001b[0m\u001b[0m\n\u001b[0m\u001b[0;32m    854\u001b[0m \u001b[1;33m\u001b[0m\u001b[0m\n\u001b[0;32m    855\u001b[0m         \u001b[1;32mif\u001b[0m \u001b[0mis_hashable\u001b[0m\u001b[1;33m(\u001b[0m\u001b[0mkey\u001b[0m\u001b[1;33m)\u001b[0m\u001b[1;33m:\u001b[0m\u001b[1;33m\u001b[0m\u001b[1;33m\u001b[0m\u001b[0m\n",
      "\u001b[1;32m~\\anaconda3\\lib\\site-packages\\pandas\\core\\series.py\u001b[0m in \u001b[0;36m_get_value\u001b[1;34m(self, label, takeable)\u001b[0m\n\u001b[0;32m    959\u001b[0m \u001b[1;33m\u001b[0m\u001b[0m\n\u001b[0;32m    960\u001b[0m         \u001b[1;31m# Similar to Index.get_value, but we do not fall back to positional\u001b[0m\u001b[1;33m\u001b[0m\u001b[1;33m\u001b[0m\u001b[1;33m\u001b[0m\u001b[0m\n\u001b[1;32m--> 961\u001b[1;33m         \u001b[0mloc\u001b[0m \u001b[1;33m=\u001b[0m \u001b[0mself\u001b[0m\u001b[1;33m.\u001b[0m\u001b[0mindex\u001b[0m\u001b[1;33m.\u001b[0m\u001b[0mget_loc\u001b[0m\u001b[1;33m(\u001b[0m\u001b[0mlabel\u001b[0m\u001b[1;33m)\u001b[0m\u001b[1;33m\u001b[0m\u001b[1;33m\u001b[0m\u001b[0m\n\u001b[0m\u001b[0;32m    962\u001b[0m         \u001b[1;32mreturn\u001b[0m \u001b[0mself\u001b[0m\u001b[1;33m.\u001b[0m\u001b[0mindex\u001b[0m\u001b[1;33m.\u001b[0m\u001b[0m_get_values_for_loc\u001b[0m\u001b[1;33m(\u001b[0m\u001b[0mself\u001b[0m\u001b[1;33m,\u001b[0m \u001b[0mloc\u001b[0m\u001b[1;33m,\u001b[0m \u001b[0mlabel\u001b[0m\u001b[1;33m)\u001b[0m\u001b[1;33m\u001b[0m\u001b[1;33m\u001b[0m\u001b[0m\n\u001b[0;32m    963\u001b[0m \u001b[1;33m\u001b[0m\u001b[0m\n",
      "\u001b[1;32m~\\anaconda3\\lib\\site-packages\\pandas\\core\\indexes\\range.py\u001b[0m in \u001b[0;36mget_loc\u001b[1;34m(self, key, method, tolerance)\u001b[0m\n\u001b[0;32m    351\u001b[0m                     \u001b[1;32mreturn\u001b[0m \u001b[0mself\u001b[0m\u001b[1;33m.\u001b[0m\u001b[0m_range\u001b[0m\u001b[1;33m.\u001b[0m\u001b[0mindex\u001b[0m\u001b[1;33m(\u001b[0m\u001b[0mnew_key\u001b[0m\u001b[1;33m)\u001b[0m\u001b[1;33m\u001b[0m\u001b[1;33m\u001b[0m\u001b[0m\n\u001b[0;32m    352\u001b[0m                 \u001b[1;32mexcept\u001b[0m \u001b[0mValueError\u001b[0m \u001b[1;32mas\u001b[0m \u001b[0merr\u001b[0m\u001b[1;33m:\u001b[0m\u001b[1;33m\u001b[0m\u001b[1;33m\u001b[0m\u001b[0m\n\u001b[1;32m--> 353\u001b[1;33m                     \u001b[1;32mraise\u001b[0m \u001b[0mKeyError\u001b[0m\u001b[1;33m(\u001b[0m\u001b[0mkey\u001b[0m\u001b[1;33m)\u001b[0m \u001b[1;32mfrom\u001b[0m \u001b[0merr\u001b[0m\u001b[1;33m\u001b[0m\u001b[1;33m\u001b[0m\u001b[0m\n\u001b[0m\u001b[0;32m    354\u001b[0m             \u001b[1;32mraise\u001b[0m \u001b[0mKeyError\u001b[0m\u001b[1;33m(\u001b[0m\u001b[0mkey\u001b[0m\u001b[1;33m)\u001b[0m\u001b[1;33m\u001b[0m\u001b[1;33m\u001b[0m\u001b[0m\n\u001b[0;32m    355\u001b[0m         \u001b[1;32mreturn\u001b[0m \u001b[0msuper\u001b[0m\u001b[1;33m(\u001b[0m\u001b[1;33m)\u001b[0m\u001b[1;33m.\u001b[0m\u001b[0mget_loc\u001b[0m\u001b[1;33m(\u001b[0m\u001b[0mkey\u001b[0m\u001b[1;33m,\u001b[0m \u001b[0mmethod\u001b[0m\u001b[1;33m=\u001b[0m\u001b[0mmethod\u001b[0m\u001b[1;33m,\u001b[0m \u001b[0mtolerance\u001b[0m\u001b[1;33m=\u001b[0m\u001b[0mtolerance\u001b[0m\u001b[1;33m)\u001b[0m\u001b[1;33m\u001b[0m\u001b[1;33m\u001b[0m\u001b[0m\n",
      "\u001b[1;31mKeyError\u001b[0m: 0"
     ]
    }
   ],
   "source": [
    "lem=WordNetLemmatizer()\n",
    "corpus=[]\n",
    "\n",
    "for i in range(len(df)):\n",
    "    review=re.sub('[^a-zA-z]',' ',df['review'][i])\n",
    "    review=review.lower()\n",
    "    review=review.split()\n",
    "    review=[lem.lemmatize(j) for j in review if j not in set(stopwords.words('english'))]\n",
    "    review=' '.join(review)\n",
    "    corpus.append(review)\n",
    "print(corpus)"
   ]
  },
  {
   "cell_type": "code",
   "execution_count": 17,
   "id": "fa91430b",
   "metadata": {},
   "outputs": [
    {
     "name": "stdout",
     "output_type": "stream",
     "text": [
      "['sporadically engrossing including effectively tender moment humorous sledgehammer obvious satire homecoming hinge come forced ultimately unfulfilling material like timing everything michael moore knew release fahrenheit election real tragedy dante film come year ago message would carried energy would energized dissident mockery well settled bush administration hardly seems controversially compelling imperiled frankly anyone could convinced anything ham fisted zombie flick questionable intelligence notice michael moore exactly help defeat bush nothing engrossing film felt disgust blatant frankly stupid film painful watch going something like need bit wit sadly none poorly done satire actually opposite intended effect say friend like need enemy', 'french novelist disgusted wife society friend go north africa respite encounter vivacious talented bedouin girl living poverty spite wife romancing maharajah decides train educate girl present parisian society princesse tam tam marvelous josephine baker perfectly cast title role enjoyable french film enormous eye infectious smile make contact viewer heartstrings immediately sized personality obvious joy performing make pure pleasure watch baker make u care happening poor alwina transformation introduction european more albert pr jean well pygmalion baker galatea also effective george peclet half caste servant jean galland mysterious maharajah film handsome well made looking little reminiscent busby berkeley movie produced time america although unlike american film period princesse tam tam racism pointed hay office production code france dialogue action rather provocative must admitted baker singing dancing african sky well culminating performance parisian nightclub two cinema memorable moment actual location filming tunisia greatly enhances film josephine baker born st louis poor family talent driving ambition however soon pushed moving east briefly cast member ziegfeld folly realizing america mid held great limitation gifted black woman managed get paris eventually joined foli bergeres le negre revue french adored became huge celebrity short return america showed baker thing changed african american returned france became french citizen worked resistance early day war baker relocated morocco duration entertained allied troop stationed war baker fortune began slide faced many financial personal difficulty even banned returning united state finally baker accepted offer princess grace monaco reside principality josephine baker verge comeback died stroke age appeared two decent film zouzou princesse tam tam baker danger becoming obscure deserves place alongside chevalier dietrich robeson one generation truly legendary performer', 'must remembered gammera movie like many first series gozilla film fact aimed squarely kid little kenny cohort living daydream kid audience get run around play top secret stuff adult stand allow get cavort monster even bad guy enter never real danger perhaps first gammera film aberration child get punished put danger rest series pure wish fulfillment one critic said failed adult movie successful kid movie', 'gave film reserving e g amadeus slumdog millionaire recently film close slumdog difficult judge film without understanding balkan life mentality soul kusturica present masterfully understand really need one balkan amazing movie much better contemporary previous film boring time think kusturica moving forward movie like humour balkan humour photography art scene artistic limit plot probably fairy tale recall remember reading daughter going sleep similar story', 'cheap gloriously bad cheese decade cheese watched one first uncut un mst k ed pretty much laugh loud funny even without comment plot revolves around post apocalyptic world ai robot revolted sound familiar destroyed pretty much everything leaving world ruin air bad one breathe human left act slave enigmatic called dark one seems part computer part organic air slave work produce energy return breathable air every dark one strongest air slave fight death one rise leader revolt dark one okay called serious stuff silly stuff ridiculous quasi futuristic clothing everyone sport including car seat cover fur garment loin cloth spangly stuff feather boa worn mostly dark one henchwoman chick unrecognizable almost non understandable accent wooden acting stilted line sported called actor dialog high pretension low sense dime store special fx including pink sock teeth glued onto deadly sewer snake bomb made strung piano wire tin terrible mutant halloween rubber mask band air slave follow leader mysterious wanderer adapted air outside go energy plant destroy dark one guy name neo explains wachowski brother got idea matrix meet group amazon along way obligatory fight scene female bested course anyone else ever noticed every amazon movie v show ever produced called amazing warrior always get butt kicked either men woman amazon pansy guess band determined warrior make way central park errr ravaged land beyond last standing city good way save money matte painting destroyed new york city anyway journey sewer leading power station dark one go go girl henchwoman valeria hang vanquish ferocious beast sock puppet worm giant spider one see goofy lobster robot one dark one personal guard final showdown pretty sad one slave girl father taken dark one produced way people breathe foul air see father consumed dark one true form involves eaten giant avocado head sticking three remaining adventurer destroy dark one turning switch robot holocaust dy bang whimper two human exchange amazingly wooden last line end', 'promise interesting film subject matter certainly promising one excess catholic church counter reformation however developed two paragraph introduction many thing explained e gypsy anabaptist inquisitor relationship one true church politics time explained e relationship catholic church supporter like holy roman emperor though may apparent austrian audience lack explanation make confusing american perhaps good thing emphasize history since showed pretty inaccurate anyway instrument torture bloody execution witch heretic burning big shiny sword pretty golden reliquary star film could easily one conan type sword sorcery movie period costume', 'another example stay away trying spectacular action movie sweden work except widerbergs still unsurpassed mannen p taket stormare best suppose scene mildly effective plot full hole hamilton continue attack base knowing wife held hostage fun see mark hamill bad guy part underwritten constantly amazed relatively big swedish movie like get made without sensible functioning script', 'could morbidly fascinating look life one america notorious serial killer sadly even come close terrible editing direction bad acting name movie literally minute plot stretched redeeming quality bruce davidson father nearly enough save stinker', 'say worse mean le entertaining todd sheet seems learned stupid camera trick since last zombie bloodbath make movie even le tolerable last movie special camera effect one treated shaky cam constant switching black white also called zombie bloodbath despite fact zombie barely one movie start satanist kill violent burglar put scarecrow back modern time kid car problem go house house satanist murder happened mean people try rape kid something bring scarecrow burglar back life come back zombie talk like darth vader mr sheet amped language lessened violence want see bad movie check rating bomb min rated contains violence language', 'former cambridge contemporary simon heffer today writer journalist put forward theory british film maker eighty often critical called thatcher britain ealing comedy intended satire attlee britain britain come labour victory general election theory presumably intended apply say kind heart coronet anything satire edwardian upper class ladykillers lavender hill mob may contain satire political nature however applied film series especially passport pimlico pimlico least forty predominantly working class district london set north bank thames mile victoria station quite correct say often said film pimlico declaring independent britain happens ancient charter come light proving fifteenth century area ceded king edward iv duchy burgundy mean technically pimlico independent state nearly five hundred year irrespective wish inhabitant government promise pas special act parliament rectify anomaly act receives royal assent area remains outside united kingdom british law apply pimlico subject british law landlord local pub free open whatever hour chooses local shopkeeper sell whatever please whomever please unhindered rationing law trader start moving area sell good street british authority horrified regard legalised black marketeering seal area try force burgundians people pimlico renamed surrender many ealing comedy central theme idea little man taking system either individual happens man white suit lavender hill mob part larger community happens whisky galore titfield thunderbolt central theme passport ordinary men woman taking bureaucracy government imposed regulation seemed increasingly important feature life britain forty film particular target rationing system war system accepted people necessary sacrifice fight nazism became increasingly politically controversial government tried retain peacetime major factor growing unpopularity attlee administration elected large majority organisation british housewife league set campaign abolition rationing cannot agree reviewer stated main target film satire spiv black marketeers play relatively minor part action housewife league appear satire much targeted bureaucrat portrayed either rule rule sake mentality desire pas buck avoid take action suspect film made today would different ending pimlico remaining independent british version monaco san marino indeed suspect today concept would probably serve basis tv sitcom rather film however four year end war film maker keen stress patriotism british identity film end pimlico reabsorbed britain one best known line film always english always english english sticking right burgundians sharp contrast rather heartless attitude officialdom common sense tolerance good humour cockney pimlico presented quintessentially british characteristic action take place summer drought sweltering heatwave last scene pimlico rejoined uk temperature drop start pour rain global warming may altered thing slightly many year part british ability hold belief whatever statistic might say contrary britain abnormally wet climate ability make joke climate equally important good performance stanley holloway arthur pemberton grocer small time local politician becomes prime minister free pimlico amusing cameo margaret rutherford batty history professor main however appropriately enough film small community pulling together example ensemble acting real star performance everyone making contribution excellent film lack ill rancour many recent satirical film wit satire le effective remains one funniest satire bureaucracy ever made possible exception kind heart coronet personal favourite among ealing comedy', 'man navy comment indicated rare well filmed look navy lighter air lta activity lta crew justly proud convoy shadowed never lost ship submarine attack filming various na location give valuable glimpse type aviation long gone however first half movie beery relationship service pal meeting tom drake character mother getting drake leg fixed second film start second film mostly ltas action taking surfaced sub guy get killed much damage caused look fairly gritty realistic imagine shift southeast asia navy ltas never mind part really wild blimp used extract downed aircrew jungle jap shooting like mad shade vietnam except getaway oh leisurely blimp talking end feel good wwii drama unusual part war', 'spoiler tenchi tenchi practically everyone written horribly character come characterization bright spot friendship ayeka ryoko also villainess punished action amount mind control rape male villain done one woman haruna tenchi would rightfully painfully bought end movie dying horribly audience would cheered haruna pay price crime ryoko actually forgives understands action real ryoko would disintegrated haruna done beloved tenchi audience saw included booed audibly sceneanime fan avoid movie tenchi fan avoid movie even harder', 'pleasantly surprised find lose friend alienate people nowhere near gross comedy trailer led expect rapidly became absorbed unfolding narrative remained engrossed throughout pacing visual humorous content thought spot mean got impression witnessing pegg attempt restoring lost control much real time speak moment time allowed share main protagonist e pegg dunst reflection event affecting led found character well cast extent interesting generally quite likable apparent ruthless ambition displayed tended tempered corresponding good natured resilience entertaining intelligently scripted brilliantly directed superbly acted film would thoroughly recommend', 'moving film take new twist somewhere relationship end kristen thomson performance tessa desperately trying hold onto connection bobby one day extremely convincing moving take right story faced end relationship least wanted shout tearfully one night give one night journey two people share make pause think precious every truly close relationship one whether permanent treated respect rather simply thrown away', 'apart beautiful imagery thanks new zealand cinematographer alun bollinger film worth seeing storyline fragmented lost hard know going given time think following direction change like lost bi polar puppy dog musical score awful relying heavily extremely emotive piece try force audience feeling certain way instrument acting emotion queue sheet feel sad feel shocked feel scared top repetitive sample used leave audience verge laughter gone day silent film musical instrument sole portrayal voice think watching river queen voice utilised one wonder film really even needed accompanying imagery could easily radio play although even would hard follow story stolen idea jane campion piano obvious overlook beach forest shot almost identical piano perhaps come alun bollinger camera work latter voice feeling level strikingly close could forget holly hunter character wing clipped form index finger cut sam neill remind wiremu trigger finger amputated surprisingly axe thought cannot recommend film viewing unless wear ear muff go scenery mind', 'perfect series family viewing gather around tv watch bbc america date version robin hood appeal child adult alike teenager tween ager enjoy sitting mom dad watching robin next exploit wait next episode air week glad free demand viewing wardrobe spot current fashion moral story entertaining violence top needle soundtrack absolutely fantastic john william feel old world tale brought life new world flair much garbage television brain rotting reality tv senseless violence take updated robin hood compared movie exploit errol flynn gem enjoyed parent concerned child watching much violence enjoy robin lost taste war bloodshed robin hood would rather attempt reason way disagreement fight maid marian also appealing role model young girl rather stand nothing take role helping poor night watchman sheriff nottingham deliciously top wicked sheriff look like cross billy joel tim curry guy gisborne played extremely handsome actor one make woman wish portray role bad guy question friar tuck', 'really bad movie good moment quality start pregnant linda blair run hallway flee might monster people pitchfork sure jump window wake see pregnant degree pregnant varies widely throughout movie annoying possibly retarded little boy thought son travel abandoned hotel island italian horror director find irritating little boy put movie island already david hasselhoff german speaking virgin girlfriend know german said love hasselhoff taking photograph translating esoteric german book witch think also traveling island older couple purchased real estate agent woman thought daughter evidently architect linda blair boy older couple child guess traveled island together really seemed like linda boy apart rest maybe filmed separately hotel seems neat certainly exterior used great effect old woman bad makeup black cloak keep appearing boy chant something german sometimes eventually record sesame street tape recorder people start getting killed either dream sucked hell something gore scene ok enough recommend movie though copy watched stated uncut box cover death one character whose vein explode really seems cut much scene showing another character reaction shot since seeing anything creepiest scene one man demon really messy looking wound mouth rape someone looked particularly nasty laughably painfully bad scene linda blair possessed wish horror movie going cast would something original role let leave exorcist behind except yearly horror convention weird largely italian tradition claiming sequel something unrelated also aka la casa ghosthouse supposedly sequel casa ghosthouse la also better movie one la casa two evil dead evil dead ii unrelated witchery la casa much better also casa la aka house seems want sequel fake la casa series series house house house ii second story horror show aka house iii house iv horror show fit really claimed sequel thus requiring real series entry renumber cause le confusion oddly horror show also aka horror house la casa also aka horror house head hurt yet', 'story incredible begin new kid town named roy bus school notice kid running shoe day break big bully nose trying fight roy soon discovers kid runaway step sister trying mess construction sight could kill beautiful owl live roy decides help fight win fight smart bumbling cop dave delinko luke wilson stumble enjoyable film funny adventurous admire luke wilson taking role think brother owen would even take role', 'ted danson great choice play gulliver even though background mostly comedy show drama well perhaps even better though lot humour hard turn blind eye american accent especially since character supposed english minor thing villain equally well cast james fox edward fox peter toole warwick davis john standing etc despite fact either tiny people giant believable everything motivation clear e g lilliputian unremitting suspicion gulliver grildrig giant dwarf hatred usurping position court jester dr bates attempt gulliver proved insane marry mary mary steenburgen great mary gulliver another th century english character american accent never mind deeply tormented character waiting nine year husband return home finally talking tiny people giant flying island talking horse mary despite strong fantasy element story believable character special effect breathtaking especially consider filmed television scale time cgi infancy look realistic see foot tall man walking city filled people inch tall cameo great well omar sharif richard wilson sir john gielgud kristin scott thomas ned beatty great actor create strong supporting cast complement danson superb acting ability houynhnhms yahoo probably effective element story satire side thing society talking horse posse vice human yahoo primitive disgusting human mate forcefully appoint leader depending disgusting gulliver mistress study also well done display difference similarity human yahoo best version gulliver travel far one best mini series ever', 'possible spoiler although done better midnight express return paradise brokedown palace still strike chord tale two young girl travel thailand get arrested charge trafficking drug clare dane alice kate beckinsale darlene handsome stranger met journey none really matter tale friendship trust limit stretched throw bill pullman unenthusiastic lawyer jacqueline kim thai bride better lawyer nice little story hold audience attention brokedown palace nothing extraordinary notorious reason original concept show sensationalised violence lead wannabe avant garde crowd talking gritty realism hard hitting truth merely good story fine performance bill pullman weakest lazy drawl gravelly way talking quite bored character kate beckinsale decent nothing spectacular act well exactly memorable performance jacqueline kim however fine form crafting likable defined character really much work make mistake clare dane movie long fan work change captivates every scene appears film would probably stoop boring fare particularly applaud performance scene darlene father film also brilliant soundtrack', 'although watched film thankfully still felt embarrassed watching tricked renting review front cover bloody gritty camera still back led believe sort documentary actor laughable throughout entire film convincing story involves italian australian gang fighting gang running fighting repeat supposedly train extremely hard make way better gang reason believe could actually beat guy twice size could wrong wrong movie enjoyable level jail montage looked like summer camp instead kid sausage fest horrible actor hanging laughing trying look hard movie worth time save money throw garbage waste movie', 'anyone else feel betrayed first hour pretty solid last oh god seemed like predictable cheesy grandiose epic like entire run show review read glowing really understand seriously predicted general ending way earlier retracted thought would never far lame hardly stand feel unsatisfied think walk door go sell every season someone please change mind want love bad someone tell wrong great show terrible ending', 'film based true story come first time director long time actor denzel washington denzel washington given u best performance last decade black soldier civil war glory lawyer acclaimed philadelphia course made special notoriety last year academy award best actor training day denzel washington became first african american receive award best actor guess denzel wanted change pace chose direct antwone fisher also star fisher played derek luke new silver screen made guest appearance television show king queen appearing upcoming film release biker boyz truly well done film denzel washington considering first time directing undoubtedly denzel felt kind commitment believed real life story antwone fisher antwone fisher young african american man navy constantly get fight one particular brawl sent see navy psychiatrist named jerome davenport played denzel washington davenport help antwone deal troubled past learn move life finding birth mother give birth prison make film good fact overly melodramatic expecting something little like good hunting lot swearing fighting vulgarity like good hunting swearing fighting vulgarity film place quite contrary however antwone fisher true story think washington wanted sensationalize story dramatic affect film get wrong moment see antwone fighting carrying moment seems like world closing first session psychiatrist character played washington devenport asks fisher born fisher response `from rock obvious jab pressure waning antwone fisher soul appreciate fact film sensationalized dramatic affect think show real character part denzel washington deliver realistic story avoid typical clich common hollywood film even based true story one point would like bring antwone fisher acting performance good film great time think bit obvious main character actor overall complain performance film would ludicrous one actress would like point film viola davis play antwone mother say barely two sentence movie much appears end film shock long lost son antwone found would like point actress lack use basically character actress seen play really elaborate role made appearance traffic sight kate leopold two recent film far heaven solaris steven soderberg remake solaris played scientist doomed space craft orbiting planet film confronted george clooney character drawn tear clooney tell particular scene first saw solaris remember seeing tear scene thinking wow woman act could feel character grief brief shot face gave much expression honestly felt sorry character sadness trouble film think definite potential actress used often perhaps leading role rather character driven actress nonetheless antwone fisher good movie denzel washington always pull great performance give u great directorial debut also derek luke talented actor think antwone fisher bring immense critical fame portrayal troubled man think public popularity increase release biker boyz also star lawrence fishburn antwone fisher based book `finding fish memoir antwone quenton fisher', 'also looking find movie quite time great would find dvd saw movie year old netherlands impressed shown walt disney jungle book remember movie fragmented remember indian boy friend eagle impressed much reason thrown village grasp reason boy threw stone climbed rock jumped time turned eagle flew away eagle friend eagle still wearing turquoise necklace cb', 'painful painful word describe awful rendition fun interesting shakespearean play gave shot terribly disappointed bare even finish viewing person wrote novel wonderful twist much ado pity bored brain may pretense young viewer lifted without retribution please even bother gut wrenching disgusting excuse performance acclaimed shakespeare drama forced induce vomiting require commode close television choose watch crap involuntary defecation take place', 'recipe one worst movie time male villain look like escaped wwf terrible aim gun inconsistent effect first guy shoot catch fire shoot anyone else disappear take time pet deer got unlikable character year old college student lame attempt surprise ending lot lot avoid cost', 'routine babysitting gig secluded lake house turn night terror high school student jill johnson camilla belle receives threatening phone call sadistic stalker trying stay one step ahead first minute original film pretty good downhill remake take first minute stretch minute feature film good idea eliminating everything made original bad however wanted film work effectively hired better lead actress better director writer etc suspense everything figured long happens dull film since much happens least much sit since le minute premise work lead actress give realistic performance camilla belle give one worst performance ever seen throughout whole movie seemed reading line get lead role hollywood film viewed million people give effort hire girl sure pretty act yet suppose matter target audience likely eat film rest cast bland forgettable especially woman play maid rosa even stranger lame line phone effective movie reminds last year disappointing horror film boogeyman movie bunch cheap scare false alarm stranger call pretty much jill enters room hears noise false alarm like cat maid type scene happens finally minute stranger appears one lamest killer ever carried weapon seem pose much threat ending bad match rest film really matter film directed simon west really bad building suspense using every clich could think result good house amazing give film credit isolated house pretty creepy good thing film offer end teenage girl skip movie rating', 'seen movie read book good thing movie part get thinking little spiritual subject evolution sincronicity part world however movie immersion easily broken little rapport viewer character clear book loos lot movie version event suppose show sincronicity taking place almost unrecognizable lot reasoning done viewer see scene indicates coincidence even imagine something greater purpose enlightenment scene visually poor create better feeling supposed recall enlightenment keanu reef little buddha well nothing like scene poorly executed lot scene really develop story also help creating atmosphere better actor movie namely hector elizondo joaquim de almeida j rgen prochnow cannot save first seem gotten scene character attempt save movie paid work scene really necessary help story j rgen good scene sell evil guy always script help scene first try convince john matthew settle join bad script execution scene dy explosion absurdly bad executed flashback throughout movie cannot even commented overall movie big waist time read book read probably billion time better bad write first comment imdb', 'going without putting spoiler cousin renting movie weekend stumbled across big freaking scarecrow cover looked cool rented alongside kungfu hustle wow wow start movie horrible box art opening scene music decent well done movie horrendous acting sub par sean lead show hardly emotion effort character scarecrow look nothing like one cover false advertising perhaps camera shot angle bad wrestling event trust wrestling fan know bad camera angle honestly right gigli pootie tang done bad amuses make laugh somehow movie take place good comedy fair serve movie especially slasher genre recommend people watch get good grasp avoid', 'somewhat high hope since like tim roth pleased film liked ang lee hulk year back figured would bang first disappointed john hurt performance look eyebrow shaped performance convincing good one would expect tim roth cool always gama thing really stick original story line think guess best part film end cool action problem original long one long got bit boring time remember time ago walmart movie really cheap sale always wondered know hoping get blown away', 'first nature movie beautiful bit mongolian music well horse looked mongolian camel mongolian oh borte played mongolian actress albeit lame performance pretty redeems bit lack performance part totally failed understand point painful watch piece hour fantasy created mr bodrov plot totally lacked sense cohesion logic behind development plot fact hardly story number loosely tied scene bunch guy mongolian clothes speaking kinda pidgin supposed sound like mongolian actor either japanese russian chinese scene shot china kazakhstan russia lot disturbing pathos mongolian dialog primitive scene dialog slow battle scene laughable supernatural pathos lame obviously make lack story japanese actor like wooden doll looking one get idea person could become leader could unite nomadic tribe looked sleepy soft stiff pitiful part movie even want start subject historical relevance piece cinematic waste see chinggis khan half movie slave see two first kid born men see wife selling tangut merchant blood start boil beautiful story friendship temujin jamukha one could make great movie story rise temujin childhood relationship family brother struggled survive among mighty enemy family van khan helped lot depiction life steppe life nomad tradition relation nation around development character totally fail see brought temujin together jamukha brought apart important temujin became chinggis khan outcast wealth military power managed unite mongolian tribe create organized effective war machine crushed one nation another created largest land empire history could make several interesting dramatic story complicated plot deep character unfortunately see bodrov creation even glimpse', 'everyone told see cactus flower finally wonderful movie perfect pick sunday night dreading monday morning matthau hawn good ingrid bergman really made movie really truly great actor anything miss bergman prof show u course one film range people display entire career scene dance club hysterical touching even film drew obvious conclusion found cheering miss dickinson boston red sox thankfully made pun intended much better', 'saw film telluride film festival one screenwriter jos giovanni honored rank highly great noir crime drama incredible performance belmondo lino ventura attention given every character complex psychological portrayal detailing loyalty treachery love hope tremendous excellent drama excellent thriller excellent film best melville title english class risk french classe tous risques word play classe touriste meaning tourist class', 'christopher guest hilarious role would stopped watching movie minute joke flat movie choppy slow paced certain character obnoxious painful watch guest character kept laughing stuck feel much better choice', 'must seen movie one comment refer first think serialized ghost story going film truncated version come awful felt performance mannered much left story performance master astaire douglas houseman fairbanks seemed hammy alice krige superb eva though craig wasson good actor adequate protagonist decision cast patricia neal truncate role good one imagine anne bancroft would done character blame script poor production value dark pacing slow disappointing pedestrian effort book one five greatest suspense horror novel th century imho movie disappointing although great introduction krige', 'hate hate barney stole suv great big bunch kick wont say hate jingle bell batman smell grandma gun shot barney made pee barney moron heck would come idiotic show like barney saying barney retard underground world kid show like year old believe stupid idiot called barney producer believe crap barney say always happy stupid sad sometimes right bottom line barney stupid watch ugly creature', 'even though story light movie flow beautifully visual tranquil poetic could almost carry whole movie film consists four interconnected story different aspect attraction man woman frequently ethereal true desire seems always something cannot hold onto flow like handful sand thought intriguing story last one unattainable woman man desire parallel deep love god infinitely reach never closer heart good movie', 'lot people seemed liked film feel somewhat bad giving bad review sitting minute feel heck plot film must missed waiting storyline unfold nothing happened sure ending somewhat shocking build forgot half time really develop character acting time believable able see time without giving anything away must say unless like actor film real reason watch movie could mistaken understand little much film decide one would say judge even know renting would good idea cost plot character acting overall feel like high really staying vote top', 'surprisingly plot seen movie le plot wanna mention asian movie thought camera bad cheap movie like also atmosphere bad real reason thing people way react happens although think lot movie case horrible course ripped movie badly single scene acting bad seen worse movie bad seen worse watching film experience boredom laughing fit death wish sadism horniness entertainment low level like gory movie stupid plot one right film gave entertaining expect see good movie right mood', 'suppose supposed take something like grain salt laboratory movie yes spend lot time laboratory always fail one dimension understanding single people fooling around uncovered secret beyond comprehension anyone time course pay price experimenting shortcoming dr frankenstein always something anticipate many thing pure science fashion young lady outrageous cover ups work young woman certainly fetching doctor help could little bit discreet even made effort shelter thing go wrong intellect gain tremendous power including understanding came rock hudson look pretty fit never quite make role however wanders lot clich silliness diminishes basic issue revenge suitable thing would wander allow seek destroy grand way', 'greatest movie give u clue depth soul deadly moment life heart shrinking every time saw scene hanging word must see brilliant picture', 'expecting much tale kid whose term paper stolen turned movie script travel hollywood get even hey still fun film frankie muniz malcom middle fame star kid fairly good amanda bynes friend also good yea film work advertisement universal studio theme park really kinda silly kid film enjoyed anyways grade b', 'although film set amongst sophisticated english upper class simple story couple torn asunder slightly dated air adaptation way wood novel nigel balchin hugely popular forgotten julian fellowes despite academy award script gosford park somewhat anachronistic persona wrote script directed latter first time dvd version saw illuminating audio commentary julian primary focus getting character right large succeeded helped two outstanding performance tom wilkinson james stitched city lawyer emily watson attractive wife anne also kept short running time minute james anne town house chelsea comfortable former vicarage buckinghamshire anne year younger childless outwardly seem happy james one nature moralist unusual city lawyer control freak road aristocratic hon william buel one middle class morality happy take advantage complication road accident elderly cyclist knocked country lane ruthlessly driven range rover like hon bill soon james anne bill victim widow happens james anne cleaner drawn conspiracy conceal really happened primary focus corrosive effect james anne relationship third person nage trio bill played rupert everett point view casting languid superior manner right part yet somehow quite get partly supposed sick time look well supposed sick vice versa part seems underdeveloped interesting john neville bill father one significant scene manages establish character beautifully time world five star hotel superior restaurant nicely evoked julian fellowes say audio commentary people able convince edwardian age still exists bottom though film draw couple together tear apart nigel balchin going marriage break wrote book fellowes made good fist conveying atmosphere say fairly free adaptation central theme', 'cannot say movie disappointment read review watching well thought would bar set high fact expectation met saying much good city new york live city like recognize certain place understand city supposed setting rather one main character genuinely tender moment humorous conversation plot twist left right keep thing interesting bad first thing thought leaving theater wanted positive leave wanting fashion certainly good skit scene outweigh bad lot skit fall within category many fact ultimately brings movie also new york city diversity though hinted though many distant pan city mentioned conversation throughout movie never really realized analyzed point city justice example many skit involve well middle aged white mean know city home many said demographic come paris je taime plot character diversity make new york city look like lancaster pa someplace really white disappointing see city shortchanged heritage like still even said would recommend giving new york love view know maybe disagree opinion maybe never know see review meant deter anyone watching movie everyone opinion art differs giving vague head expect', 'strictly pryor fan great funny guy mean b movie script awful meander around constantly ridiculing crime prisoner war balance comedy melodrama keep falling face justice neither first minute rather unrealistic uninspired vietnam prisoner war time guy playing basketball one point pander audience prison time boring unconvincing already easily put one sleep back u guy real reason considered war hero yet course quickly forgotten public seems stumbling kind wacky mishap really soon find yawn annoying clich sick mother little daughter never meet high end whore falling love hero etc odd movie constantly switch tragedy slapstick one instant work overall fact bad comedy disservice prisoner war guy great stand comedian played good movie died m reason annoyed silly unconvincing unfunny comedy like richard pryor probably thrilled reading hour dadaist poetry', 'buddy holly story open shot yellow neon moon roof roller rink lubbock texas credit start camera move moon parking lot roller rink past concession across rink small bandstand small band sound check tracking shot welles scorcese would appreciate cut buddy holly bespectacled face peering rapt concentration grip headphone talk man putting band radio young gary busey play buddy holly performance key somehow show passion holly music make film work rock roll story without line coke chased shot heroin fifth whiskey man several woman choose sex scandalized brood abandoned lusty tragedy film nice texas boy respected parent went church girlfriend year fell love rock roll busey find spark ignites passion clear infectious really play guitar film sings overdubbed holly recording busey young guy hollywood seventy struggling actor much struggling rock musician well thus give great performance although buddy holly similar situation first song old le paul classic mockingbird hill country twang nail next kid call bop two band mate reality cricket guy sizing work fine film limited narrative lead wailing rocking ollie vee kid love parent hate dj rolling rink tape later released new york without buddy holly even knowing ever recorded lead funniest scene film filled humorous moment amped disc jockey buffalo call buddy home dj playing day hour going cop banging station barricaded door holly confused dust settle quite thrilled tell boy meteoric rise begin dan stroud drummer charles martin smith bassist round band nicely good chemistry problem overblown drama thats found rock biopics movie manipulate either emotion soar manipulated cricket step onto apollo stage harlem first white group ever play rip electrically charged performance oh boy win audience rock roll loving as got choked cried next busey boy make easy sound funkier soulful would believed possible anyone even cursory knowledge buddy holly story know movie end holly died plane crash richie valens big bopper way young audience know yet movie well written directed lovingly acted forget almost immediately movie death life place rock roll history film end last performance good fifteen minute busey rocking possessed ghost buddy holly happy hear end fade away favorite song film freeze end credit information plane crash hardly noticed still thinking good last song', 'start predictable somewhat drab affair end quite hilarious entertaining right die suspenseful make outlandish set piece top gore spoiler top credit also go dead performance martin donovan one despicable character ever grace screen playing character great aloof fashion nearly feel bad guy end grand plan ultimately fails corbin bernsen also chew scenery playing good guy get dessert end spoiler revenge dead flick right die benefit heavily performer ok way spend le hour', 'saving grace movie serf end movie rating scale see movie really stink say movie real pecker believe movie perfect example christina ricci one dimensional acting horrible', 'may contain spoiler start particular empty wasteland well would nice actually plot acting talent decent dialog suspense humor hey even gratuitous sex would helped flick unfortunately lot gore even done well shooting automatic weapon missing seemed reason attach basic premise native american cursed protect body tribe murdered tracked federal special ops team dressed civvies time involved violating one basic rule conduct horror movie separating group picked one one think team would know better especially actually third team sent investigate two team disappearing without trace finally realize picked make one several stand fire weapon hit tree whole lot tree shot scene repeat endlessly movie save money shooting tree tracking spirit leaf trail know tracking spouting lot macho b way mention team woman interesting listening talk tough entertaining interesting find better movie bargain bin kmart', 'great opportunity indy director make interesting film rock musician brink stardom could decent film would dealt john livien traumatic past torturing psyche instead ridiculous attempt identify john livien life john lennon john livien suicida mother hero john lennon wished become powerful prolific lennon instead focusing john lennon musical brilliance wonderful ability bare others learn something life showed lennon legacy confused drug addicted soul looked upon god instead man huge john lennon fan movie reminded another crazy person obsessed lennon lennon killer mark david chapman lennon man brutally murdered someone else identity crisis lennon need reminded john lennon gave much world music honesty repulsed see another disturbed person main character movie obsessed lennon show beautiful contribution world yoko ono graciously honored john lennon memory making memorial central park give fan chance pay respect remember john instead director movie chose use site killer attempt commit suicide found disturbing disrespectful lennon memory man peace died brutal senseless death see violence near site felt like revisiting terrible wound lennon fan ruined movie completely could decent movie left bitter taste mouth let john lennon family rest peace reminded vicious murder irresponsible movie', 'begrudging angry film war made war care war might emotionally involving experience ever ingmar bergman work side two main character impacting drama intimate point ceremonial symbolism per bergman usual plainly showcase people life exercise bergman already proved understands person reaction movie top drawer regular liv ullmann max von sydow play internalizing bickering married couple orchestra musician live weathered farm house island part building frustration grow share two people fertilizes detail nothing house seems work reclusive intellectual either rather familiar marriage le resigned life essentially apolitical get wind distant rumor war going forever ullmann concerned danger life desire bear child husband von sydow shrug war pas serenity interrupted screaming fighter plane flying low house killing parachuting airman arrival dubious troop inquisition eventually capture appears local side loyalty long since splintered sent back home witness gratuitous destruction suffer vindictive consequence agonizingly distrustful marriage one top favorite bergman effort study couple jarred safely self unaware life violated manipulative despair testing reveal really lack compassion extent self serving restless patience capricious breakdown cry suppressed emotional issue led repression initiative excitement attracted begin immense last twenty minute sporadically interrupted image overwhelming gray sky among closest real emotion bergman ever filmed system dogma faith antagonist essential downbeat portrait basically clearcut personality ullmann von sydow character hurled degenerate world war accused sympathizer film shot bergman small home island faro give information set two side fighting uninvolved civilian caught knowledge base likely quite similar ullmann von sydow sympathizer apparent enemy partisan apparently side reactive allegory could common noncombatant citizen iraq kosovo vietnam israel palestine', 'get lazy director movie instead setting scene creative way relies boring old zombie clich two unarmed lead get college step van surround zombie yet neither lead bitten bothered direct decent fight scene see lead shove way step sometimes zombie limp others run like wind really convenient director set anything like without bothering continuity behaviour zombie careful planning lot inspiration movie could much better', 'scary place though effect leave something desired unless bad eyesight afraid dark however acting convincing effect well done thought creature looked bit much like man gorilla suit liking reminded original pink panther film', 'glad able say almost positive thing movie karas tasuiev sister renaissance firstly look ought look boy adventure renaissance tale cop investigation search missing young scientist ilona tasuiev geneticist researcher avalon company tale karas ilona bislane though much le known sin city better movie one appreciated connoisseur french comic aficionado even meaningful enriched french comic collection last week though date atmosphere music character line plot nice endearing parisian top cop karas displayed find young woman rising star medical genetic research ilona tasuiev mildly hot blonde whose rebel sister bislane erotically preferable guess oldie aficionado comic tv series renaissance marvelously beautiful cartoon like replay wild wild west episode mythological past replaced equally mythological future jaded blas sense thrilling renaissance suspenseful look especially well paced seducing hypnotic moreover achieves sketching albeit briefly world true world think avalon nakata jonas mueller tasuiev sister goran farfella karas telling distant childhood kasbah liked renaissance feel certain gentleness affability adventurousness also professional assured look among new cartoon one linklater dick adaptation first dick adaptation ever stood work beauty genuine excitement thought futuristic device appropriate conventional vividly eerie like invisibility costume advisable character exotic name like bislane farfella mostly gathered art entertainment world goran ilona naghib none seems noticed renaissance poster feature rourke look alike guy marv make sin city rip paragon originality either fact resemblance miller tale namely bleak futuristic look decayed society brio hero fact cross willis character rourke persona previous movie hand cartoon breathes public air brim straight adventurousness word like sin city kid well naughtier kid mean cause bit nudity display said one might retort trait mentioned characteristic even clich common place futuristic adult comic look true enough oldie miller brought thing screen renaissance bear resemblance also fair every ring ought eragorn sin city renaissance admit quite partial bleak futuristic tale rather undemanding specialty', 'strangely attracted film since saw showtime sometime early say strangely rather ludicrous bit soft core fluff genre particularly interested dialogue pompously nonsensically philosophical making sense doubt franco italian producer plot completely extraneous achieve wonderfully hypnotic thoroughly pleasant mood scenery beautiful philippine soft focus nudity wonderful score contribute strange extremely watchable exercise sort film making seldom seen today truly one great guilty pleasure fortunate enough find old laserdisc watched time think healthy worthwhile moodpiece', 'film powerful philosophical ending ending meaning watch movie beginning youth alienation late viewpoint young man young woman obvious theme zabriskie point neither mark frechette daria halprin much acting experience fact actually enhances film message untrained actor conveys sense realism player seem emotionally detached turmoil around script driven film except first ten minute mostly visual stunning cinematography beautiful naturalistic image seem worldly perfectly sync emotional detachment mark daria would replaced thematically weak pink floyd music cogent music door many scene cry rider storm even like film different unique artistic imaginative desert badlands beautiful year go zabriskie point seems attractive conveys mood late america amazingly artistic bohemian sort way film last eight minute philosophically mesmerizing', 'good way make movie bad way much former short caper exacts nothing give audience present simple story told plainly enough wisecrack keep going get better better clooney cameo funny welcome lead including sam rockwell luiz guzman easily make likeable funny hilariously towards end welcome collinwood welcome addition heist genre', 'rate movie skull coz girl knew scream could better movie actor better twin ok believed evil eldest youngest brother sucked really bad seemed like reading script instead acting spoiler vampire freeze blood vampire drink frozen blood sister movie say let drink alive moving another house take cooler frozen blood end spoilerit huge waste time made mad coz read review movie great many award movie movie f ing', 'saw movie netflix intrigued way movie described end better moved many different direction watching movie filled hurt hate angry bitterness pain finally relief look young man accused would break heart convince wrong person smugness police make cring rodney king beating brought light brutality police movie brings forth total lack moral fiber police fact beat boy got away infuriates tell fell love attorney mc guinness one favorite line telling u hole cop cop told go keep sucking cancer stick mc guinness told cop always cigarette sex letting know going screw new respect law country', 'documentary one best documentary seen also one moving quietly beautiful movie seen period follows life two sudanese young men peter santino try make way american culture peter santino friend first gradually drift apart peter go kansa city santino stay houston land called houston santino beauty eye take people onto back support apartment full sudanese paying rent everything people quiet sufferer peter look getting high school education playing basketball making christian friend seems director megan mylan know getting beauty tale peter santino amazing character move real strength movie lie commentary american society judging show strength weakness world difficult outside people suggest find film look america life two fascinating beautiful people grade', 'none ator played hilariously bad mile keefe surprisingly misfortune sitting turkey mystery science theater tore piece highly recommend checking mst k version since hilarious one best episode ever movie basically kind typical b movie crud italian film maker churning early mid film apparently made cash conan craze fails miserably count keep eye scene ator fight giant rubber snake also manages make complete hang glider cutaway thong fish ready rating movie mst k version', 'bicentennial hit hershey pa part middletown skate team anything except skate around trying learn reading page skateboarder magazine couple local hill provided speed wobble could handle time mike weed hot stuff along rus whats name z boy hot tail gt grentech plastic board power paw urethane wheel loose bearing parent told moving california later year taking trip go house hunting extremely good son summer asked might rewarded real skateboard california delivered fiberglass deck surfer magazine logo screened wide truck big red wheel precision bearing ya know got oak street surf shop laguna beach got california anaheim concrete wave carlsbad great park well soon came skateboard odyssey mission viejo indoor park every scenario imaginable reading stacy shogu tony jay flick right money wonderful experience watch', 'saw switching goal twice always feeling see olsen twin make movie like play different sport fall love boy ok movie first little boy girl play big goal football play time out game end referee give overtime minute finish foreseen think movie bad lack football knowledgement done european producer would better also mane actor wright choice suffer lack authentic ok played season full house make big star got show talent missing olsen twin', 'believe dumb movie truly storyline written keira knightley mother ruin movie extreme straight dull absurd make absolutely sense whatsoever movie lagged bad especially beginning story kept going everyday flirt often time seeming like threesome movie annoying deadbeat couple poet wife complete total drunk start wife sleep around men make end meet poet pervert thrives cheap boo woman wife waaayyyyyy quickly becomes friend former childhood lover played keira suddenly get jealous knowing full well two lover since kid something seem right mean come get program lady expect bottom line former lover meet new wife embracing get jealous former woman lover get married husband get jealous bombard crazy drunk couple home crazy husband call police end going court man attempted murder charge summed nutshell movie moment quality good acting cillian murphy cannot believe watched complained movie family member watching fell asleep decided give chance stuck first instinct', 'director day create horror movie like shining easy answer modern day director stanley kubrick kubrick proved movie truly one greatest director auteur time plot fairly simple man named jack torrance played brilliantly jack nicholson family move large secluded hotel watch season kicker previous caretaker hotel savagely murdered wife two girl follows readily summed title movie watch see mean first movie long time strike scary seriously messed stuff good way one thing add scare factor amazing music music major part kubrick movie space oddysey clockwork orange name couple definitely disappoint one score completely set tone film would without finally must comment nicholson legendary performance jack terrifyingly convincing crazy killer fact stare steal scene movie top notch acting must seen believe never horror movie quite match one r p stanley', 'everyone already commented cinematography good great personality larger life structure chronological many reference surf culture time missed bigger question sociological importance chucking mainstream american culture something fulfilling rewarding surfer used watch mm film local high school socal remember great feeling surfing day skin radiated heat putting hawaiian shirt short going watch latest surf film night often narrator filmmaker reading script sheet paper sometimes surf band proto punk band would add music never happier except hooting hollering seeing riding giant took back time also reinforced feeling living life edge worrying money climbing social corporate ladder keeping jones pushing physically mentally fleeting moment joy jubilation may answer question purpose life least like greg noll laird hamilton like seem found something u bold enough honest enough pursue live life solely term maybe society would fall apart exactly wanted life wonderful see people actually living dream message really impressed', 'enjoyed show anyway reading comment prior reviewer say show hard time completely nullifying criticism head except one show stale program anything stale lot stuff people take issue show money pretentious forced overwrought desperate attention self satisfied annoying ever present narration know really liked different original really really tried made minus show bright verbal quick witty interesting fun look know week could take week look forward enjoy mourn passing guess nobody bringing back life', 'never known film arouse debate life believe say film eventually remembered time classic waiting anticipation film previously loved lock stock snatch negative review thought would disappointed absolutely loved film wait see film totally different aforementioned ritchie film also lot better pick favourite director none pulled move great guy ritchie done movie believe taken movie making another level know people laughing comment guaging reaction film believe time prove right movie confusing carried much longer hr running time stop thinking trying piece thing together got pretty good take everything happens film answer endless hour thinking answer reading people take film cannot wait sunday see hope people go cinema open mind hopefully rewarded many others', 'like many first saw water baby child young teen late seventy early eighty remained since catchy tune memorable portrayal le successful animation story full heart coldness ultimately good vanquishing evil recently sat saw least two decade passing noticed time around striking similarity wizard oz blatant likeness hear one boy dog personal problem home running away something scene right run away changing substance appearance one boy dog become animated wizard oz dorothy toto color one boy dog told must find water baby answer ultimately kracken guidance ability let tom go home show courage etc wizard oz dorothy must also find authoritative figure test allow return home water baby tom meet three character help journey water baby dorothy three helper well helper met entertained rendering hi hi hi hi hi cockallorum way wizard see wizard dorothy good witch sort look tom woman many role billie whitelaw look closely two many likeness said water baby knockoff way commenting eerie like two film solid performance bad guy bernard cribbins always fascinating james mason kid playing tom ella good supporting cast joan greenwood love voice david tomlinson vocal talent john pertwee lance percival add greatly mix must confess animation le sterling even time adequate enough challenge three animated character help tom get home likable always trouble picking favorite french swordfish john inman mr humphries like seahorse scene hear guttural maniacal laugh shipwrecked vessel see seahorse huge polka dotted bow tie bob always rolling water baby lot fun sure child film always shall fond place heart bulk credit success film must go director lionel jeffries jeffries wonderful comedic actor sense humor clearly evident throughout', 'movie could much better especially considering talent larenz tate portrayal frankie lymon good especially musical performance lip sync well stage mannerism larenz tate frankie lymon portrayal woman bunch gold digger hollywood written power obviously pushed made character unrealistic positive movie miguel nunez portrayal little richard cameo little richard lela rochon eye candy usual even conservative role bad talent halle berry vivica fox wasted whole frankie lymon saga fascinating real life bad film wasted opportunity', 'first time kilter majority view oz dreadful pretentious voyeuristic series maker cake eat oz em city etc used ultra crude signal apparent grittiness complete fantasy allows viewer feeblest intellectual excuse watch soap operatic nonsense spiced everything bad human being watch episode please remember foul mouthed violent absurdly convoluted unconvincing sick imaginary drama unfolds approving eye several hundred infant poorer part world died bad food water oz exploitative drama worst appeal basest instinct pretend serious meaningful blow hot cold change fortissimo pianissimo often mahler symphony dialogue unrelentingly ugly utilitarian liberty taken reality stupid nightclub owning dandy arriving oz foppish finery complete ridiculously cloudy contact lens one eye brandishing stash drug nobody detected murderous wimp bleating heat death universe begging killed course refused brute approach bit improbable throat cutting action race pace fast enough voyeuristic dim witted viewer thinking always happens next rather rubbish shown worry betrayal murder sex scene along within minute two finally oz obviously pretentious feel embarrassed carried along flow watch tell producer writer actor everything huge wink word change vowel audience yes nasty minded viewer excuse ground cleverness post modernistic etc skill oz production team appeal lowest common denominator pretending operate higher plane truly despicable series every hour show rewarding maker actor generating advertising revenue channel show people nothing better watch something ugly unnecessary another hundred child die whose life could saved dollar spent horrible successful widely praised series', 'ughh movie awful script stupid course chase tell zoey love like every episode ill never understand zoey show also heck logan dad act retarted zoey chase character always every episode quinn make invention something go terribly wrong invention zoeys brother always get involved seen waste hour watching cuz wasting time smaybe may interesting eight year old well cnat imagine older watching retarted film expect nick', 'inspiring story carl brashear cuba gooding jr black man grew poverty kentucky joined u navy aspiring first black master diver navy history shown series struggle boyhood brashear overcome make dream come true keep alive least challenge master diver bill sunday robert deniro head trainer diving school navy sends brashear especially sympathetic brashear goal ultimately becomes unlikely friend supporter good movie fast paced lot action although action pic normal sense word human story well interesting study racism struggle overcome also sense struggle took place older younger naval officer old navy v new navy performance quite good particularly goodings thought deniro perhaps bit top portrayal sunday although know sunday might well extreme kind loose cannon portrayal sunday wife gwen charlize theron also made question whether part jazzed provide entertainment value good movie though never wondered worth tuning', 'four guy jack go restaurant business fifth guy lose common sense allow abused worse textile worker turn century without simply leaving situation truly one worst film ever seen hope resell item someone might like true hold attention let illogical plot development bother much silly throughout however especially stranger enters restaurant guess', 'may need know order decide whether want see movie bad really really bad sometimes seems aware make fun bad aligns cliche cliche even manages grow worse go along moment bad enough hilariously funny laugh really poor quality script writing production value might enjoy otherwise prepare serious brain damage', 'libby talking desmond flashback anyone confused past like end hospital hurley know despited libby dying season character explored season get answer question surrounding btw great episode really great cliffhanger interesting question like happened eko lock four toe statue cannot wait till season lost rule hope unanswered question answered loved explained plane actually crashed desmond manage type number time', 'loved mini series tara fitzgerald incredible job portraying helen graham beautiful young woman hiding along young son mysterious past anglophile love romance movie cup tea would recommend anyone looking escape hour england also must mention toby stephen portrays magnetic gilbert markham reason enough watch wonderful production', 'strange mix traditional smartassy chevy chase type every ten line get funny one farce sickie black comedy mildly amusing spot utterly tasteless skiing sequence includes fakest looking back projection since majesty secret service', 'spoiler spoiler bunch afrikkaner hillbilly type desert looking diamond find hard mound middle sandy desert area spoiler dumbest one start hitting mound pick crack open look hole stick head surprise something eats two dimwit seen alive scott bairstow look like pizza delivery boy play kind expert scientist medical degree mean year old minimum bairstow supposed join camp c help find diamond truck pick bairstow take camp c handful kind weirdoes usually populate movie like pitch black thing etc truck happens drive across first truck decide investigate come truck see truck driving pick bairstow since travelling road find eaten body decent special effect relating bone little bit flesh main lunatic group karl decides must find killer truck drive around desert following track eventually electrical short crew stuck desert dumbest guy group picked bunch bone using jacket carry around take nap wearing jacket creature eat alive another guy run stick arm goo dummy loses arm sound exciting far except minute later dr bairstow realizes creature really hundred thousand ant using bone hold together travel new hive miner cracked open old hive last time checked ant could move around without kill people order use bone structure need something hard could put bunch stick together used create form whole story really really dumb ant explanation one given rest movie group getting killed find new ant nest kill ant brain sort hundred thousand ant walk away itty bitty foot spare ant brain found camera sent back analysis thus creating reason sequel', 'first saw movie theater year old still crack muppets cool approach show business refreshingly naive way favorite scene rat start whispering campaign behalf kermit fancy restaurant one smart funny movie kid parent alike long live kermit miss piggy rest gang', 'hal roach comedy short tough winter ninety ninth gang little rascal series eleventh talkie bascally showcase black comic stepin fetchit get special billing see going shack gang hang farina retrieves love letter mail told stepin read since read day go night school happens sweetheart tennesse farina ear stuffed cotton since hot hear another room weezer relay instruction mary ann making taffy radio keep running back forth kitchen miss lady announcer segue rice pudding spanish tamale confusing mary ann addition tabasco lux concoction completed jackie rest gang help awful tasting sticky substance everyone get stuck wall result try clean mess stepin work basement various pipe electrical outlet mix variable appliance function telephone vacuum vacuum ring refrigerator play music end described portends meandering nature gang short served pilot potential stepin fetchit movie short series well never took place fetchit characterization lazy negro amusing small dos would considered highly offensive today many scene described good laugh though final sequence confusing result blah summary tough winter curio worth seeing least way stepin real name lincoln theodore perry', 'course saw preview beginning lion gate extravaganza course best part therefore looked intriguing point young college student sarah finding riddle place becoming obsessed answering unwittingly becoming involved game fairly intriguing right unfortunately get rather muddled becomes complicated viewer like likely become frustrated character appear little introduction really sure sarah know hanging something woman tried drown young boy year ago reason part design reality part sketchy script film find feeling lost hour half life want back productive us time like cleaning bathroom instance', 'let see seen every film lou ferrigno made seen batman robin twice memorized dance breakin electric boogaloo watched unfinished blade runner rip student film yet film painful thing ever seen first movie straight video market thank blood cult mysterious michael dudikoff film local blockbuster know even high quality video consumer grade father video camera never us look minute bore plot detail since getting sleepy thinking tell watching movie form torture watch movie angry recommend film suicidal mighty challenge happen rent film god mercy know first minute hit usual horror film intro know drill lot suspense build girl dy yes seen like boring intro ever seen honestly believe could get camera ebay ten dollar grab bum smell like gin candy tell film mom cooking dinner would interesting intro bored tear cried like baby another one thing make film unbelievably painful actor yes seen bad acting trust seen th grade production oliver twist realistic dialog lead actor make ill supporting actress train wreck human even comment boyfriend true horror rent movie find never depressed spent dollar anything else', 'campfire tale excellent peace work everything film perfect film great cast see imdb reason brought film christine taylor love horror film let get main part teenager film crashing car decide tell spooky story story main plot teenager main plot best story people lick opinion least scary story possibly honeymoon nd story remember name people lick man pretending year old girl internet start chatting girl called amanda enters house creepy stuff story make think twice chatting someone online basically pervert enters house thing go creepy main plot sweet simple teenager crash tell story try freak cool twist end bad part movie teenager crash car another couple kid bother seeing couple ok talk couple crashed men woman made film made scare people make money unlike scream know last summer film created scare scream know last summer made make big time cash even though movie pushed publicly scream still time better scream know last summer character movie great realistic characteristic cast play thesis character great christine taylor fabulous job lauren go top acting dude play eric laurens younger brother also good job showing men teenage boy also get freaked scream like spoof movie murderer joke kid dumb unlike scream know last summer movie realistic people goof movie noticed', 'child like many reviewer hated original v v final battle vhs never hook vcr watch remember liking short lived series much remember rented first disc third episode memory refreshed terrible writing beyond horrid even fun lot material work seemed like know turned day life lizard alien cool full potential concept elizabeth starchild could think grow whiny boring teenager compete mother romantically marc singer looked le embarrassed beastmaster ii trapped drivel point whether one younger folk discovered v one u older sci fi fan looking rediscover old fun spare skip', 'could even bring watch movie end cannot comment story watch whole film reason watch actor firstly part looked stiff sure script hand frame minor issue main issue actor really fault whoever cast film come movie came thought casting people late twenty play teenager went fashion new wave cannot watch movie one first line grown man older anyone take seriously fall victim movie go walk minute get far movie could ever give', 'zeke rippy mic great totally believe character scary hell spent half movie covering eye half edge seat cool see something suspenseful frightening blood gut give bad dream basically great movie see first chance get', 'eddie monroe hooooot great actor could girl anytime fine sad end going ruin end wow girl vicious girl wrong eddie man would never disrespect mobster spooky moral story trust one friend hurt u oh eddie tell girlfriend yo mine move ovum would suggest seeing movie becasur said kept eye screen sister loved also going see friend want see worth seeing two time peace happy new year', 'apparent attempt avoid remaking original movie excellent cast made inherently funny classic neil simon material better original failed every level chemistry goldie hawn steve martin magic `housesitter nonexistent effort', 'show perfect example cbc stick either news sport satirical sketch comedy developer situation comedy cbc shown combine pizazz king kensington belly laugh beachcomber embarrassment great show like kid hall second city share comedic root lame production admit give show much chance right first heard concept start half concept direct attempt rip one sitcom success english canadian history corner gas rest concept cultural clash far original often used crutch screen writing laziness selection muslim religion basis fish water character seems desperate attempt edgy topical come forced joke based around local reaction newcomer cringe inducing thoroughly insulting intelligence everyone involved especially audience show perfect example cbc get come creating canadian content especially presenting canada multicultural environment cultural diversity canada presented heavy handed forced way would refreshing change see cbc introduce diversity television show without making show said diversity doubt cbc sufficient sitcom talent pull something subtle comparison could made way diversity depicted corner gas e aboriginal character set apart ethnicity heritage used generate story line realistically life character life intertwine way make ethnicity significant personal characteristic said even formulaic fish water comedy show fails acting weak comic pacing map story premise saw far beyond suspension belief even comedy saving grace talented derek mcgrath horribly wasted doubt even addition guest star colin mochrie example anglican archbishop save dog decided give show chance cbc hype died two episode could stand could almost feel braincells shutting failed punchline time slot would better served airing coronation street air farce run dr even infomercial would improvement', 'boat builder sleepy town maine going business life soon ex worker family disrupted biggest disappointment two star bates bridge bit part interesting something would see twice', 'found episode fascinating well written tv show entertaining expect fictional entertainment like relationship professor female security guard although sometimes scottish accent make bit difficult understand saying hoping would four episode recognize one commenter reviewer series comment relating opinion physician understand gentleman comment however fictional television series meant entertain present precise fact like documentary patrick stewart performs well make character believable want watch documentary series want watch unique scientific based theory entertainment based medium enjoy four episode', 'well one give director credit gutsy gutsy would right term use total cast five people extra also decided use sub par special effect confusing boring plot also kidding put warning beginning movie might die fright however promise freeeeee coooofffffffiiiiinnnnn creepy limping gardener always good move yaaa unique aaawwwwnnn watch mystery science theater might seen like showcase horrible movie let know good gift someone hate', 'every great stumble upon movie exceeds even wildest expectation given imdb rating really expecting much brotherhood satan hoped minimum might cheesy fun like devil rain early similarly themed satanic horror film wrong got instead ambitious intelligent film cast really enjoyed speaking broad term avoid giving anything away film style structure much experimental straightforward storytelling prominent early brotherhood satan beat head plot point explanation lot left viewer fill blank viewer know something amiss longest period sure unknown help make far creepier atmosphere similar film ending effective surreal imagery sat amazement final credit began roll wanting big slam bang finale disappointed ending simplicity lesser film would tried pull stop would likely failed miserably moment film easy forget director bernard mceveety primarily worked television brotherhood satan scene well set lit shot even accomplished director could learn thing two example seen enough film year realize director sometimes seem trouble shooting widescreen shot indoors scene men discussing plan action sheriff office amazing see five men thing real life lesser film might see men would motionless quietly waiting turn deliver dialogue small scene look natural beautifully shot one favorite moment brotherhood satan finally mentioned acting opening without going long winded speech say brotherhood satan feature strother martin l q jones film two guy almost automatic winner', 'class aspect ratio sound format stereoin class member west point academy torn apart outbreak civil war gregory hoblit ok historical drama make obvious point virtuous men rendered blind conflict though production seems little stilted despite authentic period detail cast talented newcomer clive owen christien anholt josh lucas andre braugher laura linney etc toplined dan futterman conscientious southerner take arm defence slavery pitting direct conflict former northern friend movie emphasis misguided though sympathetic character particularly brave drama otherwise flat superficial hoblit direction efficient rather inspired', 'thought baseketball one funniest film ever seen witty humour made giggle way fact trey matt top boost film comedy bought baseketball dvd one movie would never get tired watching short attention span think film funny bit keep entertained throughout humorous quote memorable make laugh hour remember later overall think baseketball brilliant movie everyone go see especially younger like keep laughing long time afterwards p anybody think weird like hehe', 'miserable people done everything complain dialogue budget want hear missed point beyond beautiful movie loss rest u deeply love movie care think thirthysomething guy seen thousand movie life one stand entity book supposed documentary completely factual account happened night amazing love story ever attempted know cynical millennium everyone tizzy come someone comment board complained made much money lame made bundle money every civilized country planet top grossing film planet gladly side majority time around okay cynic time crawl back rock done', 'seems like hazanavicius back man behind la classe ricaine come back really fun clever sequel old fashioned os whereas director tend actualize sequel old classic remember avenger urk hazanavicius chose work really cheap hero os kind low budget french decides old school way photography body attitude fight choreography fx everything like homage way film made back work tone joke movie really good jean dujardin embodies perfectly stupid arrogant macho selfish french spy lost country understands term folklore inferiority yes way occident us consider colony back oh say anything happens nowadays area ah ah look like unfrozen lino ventura something like pound le perfect role member cast fit perfectly well dream russian spy egyptian independantists former nazi course woman femmes fatales good spy movie plot good maybe brilliant really good enough taking place actual historical fact remembering u funny way france others treated colony back day start british spy disappearing tracking russian cargo full weapon suez france sends best friend agent os discover happened shipment agent fact agent really dumb slip story without even understanding solving clouseau esquire way say bad feeling movie publicity made around quite frightening french humor tends quite populist flat forget le bronz camping really surprised good way highly recommend whether want good parody bond esquire movie much fun e b example le skirt fan genuine candid way filming back o yes clever really funny got point mr hazanavicius', 'whatever happened keaton want know actually crawled away heaving thinking must owe half bookie vega maybe maybe brainwashed blackmailed bored death rich enough adopt third world country somehow star yet another cookie cut clich ridden drool athon based character franchise rehashing since father bride think going head head mr bean spoiler hubby dax get fired obnoxious son bos mom keaton leaf dad classic row crash dog show tow oh little rascal hubby got cold foot diaper duty wifey clock ticking hey let toss space cadet second house guest good measure one day funny original wife get fed walk away mom leaf dad space cadet couple make time closing credit long minute later space cadet devious well scheme excuse stayover mom leaf dad hop cab dressed pumpkin scriptwriter agonized cheer thing plus gag whereby invite discover got canine entourage cab got outlawed get one obnoxious dimensional bos denigrate another movie killer would movie script space cadet toiling away supposedly lame actual one dejas ad nausea liv tyler seem happy voice weird time wondering later redub smart one handled great role forgive jersey girl disaster prone could happen anyone dax shepard watchable generous considering material personally director screenwriter especially producer would love see tar n feathered shipped guantanamo plaything prisoner keeping lite', 'would probably get something like translating movie living first movie year working experience found offensive intelligence course stupid hollywood movie drunken teenager spring break movie even claim serious work art someone strives greatness poetry delivers muddled often ridiculous story bunch disparate scene pretentious dialogue get worst kind movie reviewer accurately defined pretentious crap find movie intelligent even masterful say intelligence imagination obviously used try make sense pitiful attempt human nature try make sense thing one thing tolerate political incorrectness well artistic freedom suspension disbelief slavic female character much wish someone told director kind ridiculous even unrealistic art movie portray slavic woman half articulate dishevelled creature connected force nature probably due fact spent entire childhood looking star milking cow three legged stool', 'first movie gross point nauseating advice avoid cost ever want eat ice cream tried watching looked like might funny soon became quite disturbing ice cream made body part surprisingly graphic effect open boy named greg witnessing gruesome murder ice cream man greg subsequently go crazy grows title character appear mob assassin explanation murder making biggest wtf moment entire movie lesser wtf moment include surreal asylum greg go featuring evil clown woman speaking tongue possessed holy spirit anything know fact olivia holy crap career tanked badly hussey none good enough reason watch reason character tuna skinny kid pillow stuffed shirt look like fat kid reason struck hilarious stayed far longer night watching movie figure reason use actual fat kid role although fell asleep end gathered review tuna end losing weight okay budget pull realistically suggestion director making character overweight prospect tuna interested enough reason acknowledge film existence disgusting horror movie ice cream preferred source entertainment check far superior stuff instead', 'sequel actually remake disney live action remake dalmations cruella devil glenn close released prison cured obsession fur psychologist named dr pavlov ugh cure broken cruella hears toll big ben go mad quest make perfect coat dalmation hide movie bad many level starting fact thanksgiving family schlock movie designed suck every last available dime disney marketing machine glenn close act cruella put movie lame script endless makeup getting baked cake end hope gave extremely large paycheck speaking world going find fur coat factory bakery rube goldberg assembly line candlelight restaurant located within building climax film course real star movie supposed dog serve macaulay culkin movie pulling stupid home alone gag villain biting crotch running hand luggage cart squirting icing etc etc etc ad nauseum admit dog fairly good actor much better human gerard depardieu completely wasted movie freaked french furrier two human dog lover rehashed earlier film different actor completely boring spaghetti dinner italian restaurant movie cut back forth two lover dog home watching dinner scene lady tramp thought oh please go half expected human satire lady tramp dinner scene charlie sheen hot shot part deux spaghetti strand kiss pushing meatball nose etc get started annoying parrot eric idle voice costume nominated oscar costume movie good good thing movie rest unbearable dreck', 'english patient rightly compared film david lean whose sweeping epic lawrence arabia bridge river kwai must inspired director anthony minghella film beautifully photographed like lawrence set northern africa second world war story complex boil forbidden love opinionated often difficult archeologist played ralph fiennes married woman played kristin scott thomas story based novel michael ondaatje told flashback fiennes count laszlo de almasy titular character fact name sound like english play key role unfolds badly burned plane crash occurring film open cared back europe hana army nurse played juliette binoche make story epic vast sweep across place time development character beyond two ill fated lover film make clear true love passion even dreaded consequence make life worth living worth dying romantic heart appreciate film without standard happy ending simple moral code may find english patient speaks directly', 'found film quite oddity get go found extremely hard like movie little thinking pretty much pinpoint reason jean marc barr although love bit think zentropa one best movie ever made quite miscast although figure life would better sure someone could taken place quite easily make film work everything else fine except stab weak comedy meet parent joke really needed filmmaker really like richard e grant british major suffers one thing jean marc', 'expecting citizen kane hoping extreme guilty pleasure script bad school exterior shot obviously done extra day dorm exterior shot easily shot hurricane wardrobe swapped around much hoped wardrobe mistress good strong soap wash panty know budget time think could bought couple different style underwear oversexed vampiric hot chick would wear boy leg panty latex trouser relieved see one appearance thong penultimate scene good point actor attractive girl natural boob bad never took bra special effect neither effective could describes special rode short bus edit bay final scene particular horrifically laughably bad lizzzzzzzz', 'sound like fantasy film film dark dark overtone soundtrack way uplifting point intruded visuals sure aiming something militant work scene astin attempting escape perfect example sound like goony comedy brightness idea movie great acting good well enjoyed everyone performance available netflix online viewing definitely worth viewing write soundtrack', 'pale imitation die hard franchise suck low ambition movie clearly display terrorist hold vice president hostage call white house beg transfer money movie genre president kidnapped held hostage powerful person country finger nuclear button etc etc would american really worried dick cheney kidnapped honest answer probably terrorist would choose stanley cup final carry operation despite many explosion around audience inside hockey stadium oblivious situation unanswerable question let say film really hokey hockey liked film found exciting get life', 'someone never sport seems like would hard get football american inexplicably call soccer themed bend like beckham gotta say one cool movie anglo indian jesminder bhamra parminder nagra wasp friend juliette paxton keira knightley love play football yes going say british international way adore football player david beckham jesminder traditional sikh parent approve mother offer really whacked description football early movie okay maybe sort clich sense gotta love movie like go movie knowing definition bend football worry movie explains also never heard david beckham prior movie know keira knightley hit big month bilb came state starred equally cool pirate caribbean curse black pearl', 'landmark world film several great director classic era releasing career capping classic ranked among best look title instructive hitchcock north northwest billy wilder like hot howard hawk rio bravo douglas sirk imitation life add couple previous year orson welles touch evil hitch vertigo nick ray wind across everglades got pretty good summing possible within classic hollywood style time two film appeared hinted whole new way making film one jean luc godard breathless john cassavetes shadow two film certain thing common largely improvised acting non star handheld camera low budget certain youthful jazzy swagger certain way though farther apart godard still believer director arbiter style knew film hollywood producer breathless filled iconography classic crime film cassavetes hand actor refugee new york underground theater scene first film show little impressed cinema big believer actor godard film constantly reference artifice whereas shadow aim certain kind naturalism reach mainly naturalism myth particularly cinema feel powerful kinetic lilting like cool jazz score certainly main inspiration filmmaking style display ultimately hold together mainly cassavetes actor amateurish beatnik cassavetes style requires strong imaginative actor later work gena rowlands ben gazarra peter falk blow water due director technical inexperience bit dialogue redubbed later defeat freshness improvisation still fascinating watch great moment like scene leila goldoni talk dissapointment losing virginity watch groundbreaking artist finding way', 'huge fan first four ju project watch every month lend co worker friend get good scare quality japanese film making think takashi shimizu created great story presented effectively four installment somewhat excited grudge opening theater saw first american grudge watching four original grudge actually pretty good course original better got good halloween scare american grudge grudge started badly went kept waiting get better make sense show shimizu talent nothing like happened thing great shimizu ju work story true usually told disjointed style think connect component still great story story grudge series gratuitous death character never time even start care editing atrocious disjointed japanese original one thing complete randomness scene sequence exhausting kept thinking stupid really sell much made want walk theater run home watch original work simply reassure shimizu always made dumbed generic boring non sensical thrown together tripe really heart set seeing movie suggest wait month rent really two five people theater walked minute debated whether going home cleaning house actually sounded like better way spend time point truly shocked bad movie let pray sam raimi put cash make grudge worth anymore sigh', 'film utterly horrible stupid premise horrible acting whoever wrote trash hanged reminds hack student film worse ever produced give know opinion subjective may think fantastic think dune fantastic well get horse watch real film ok acting tolerable better direction could far better suffers know much say waste film totally trash anyways horrible recommend avoid like plague come anywhere near dreamland rent movie beside instead', 'right let start saying love original r graphic new ship really fast cool mission challenge strategy come computer tell every step mission could wander explore first thing wrong rl everything timetable controlled people mean leader telling people handle every mission speaking mission intersperse original trilogy completely made crap never mind waiting game heard going allow fly asteroid field empire strike back think anyone fan film wanted give stupidest level game start flying asteroid field tie chasing whole objective get farther field shooting tie kill get ahead hey remember many han killed field none poor piloting skill compared wanted able dodge asteroid came instead use automatic aim gun kill tie behind biggest disappointment control flying everything sluggish except wing probably fastest maneuverable ship entire fleet oh yeah han say falcon anyway finally get battle endor ultimate level get destroy death star everyone first instinct pick falcon leader course get stupid pre chosen strategy like finding mention deciphering difference tie bomber impossible falcon time spotted one group frigate get destroyed way get passed part pick wing attack star destroyer real stupid chore game make feel like one defending rebel alliance frustratingly get fun fight get death star might think yay get destroy death star like asteroid field tedious thing narrowly getting passed tunnel impending doom mission protect ship front remember return jedi moronic pick falcon die maneuverable enough pick x wing keep locking unlocking foil choice either kill bad guy try catch lando apparently know maneuver thus dying process bonus stage even worth aiming level get frustrating make feel way saw new three film upset need killing something lucky smash bros melee exists hope wii come something lot better original trilogy level full capacity going sell game first chance get', 'thought good movie someone said sick watch think realize rated r prepared nudity drug use good story acting amazing prude appreciate basically mom drug want get clean call wealthy old friend move estate crazy thing happen guess drama sick people like movie cursing nudity world live obviously comfortable see thing like movie rated r tell beginning peachy happy rainbow liked think', 'totally disagree comment concerning movie visual effect complement supernatural theme movie detract plot furthermore loved move unlike crouching tiger time sword action string attached time see action close think western audience confused scene one involves monk trying burn alive concerning villager chanting end world mentioned scene derived certain interpretation mahayana buddhist text mahayana buddhism found china korea japan scene deal quirk japanese calendar people back really thought world would come end gojoe action story visuals mesmerize viewer strongly believe skillful editing sold u one complaint last fight scene give anything away sorry', 'pistol packing pam grier take name kick butt heroine asylum satan director william girdler entertaining blaxploitation actioneer sheba baby co starring urville martin austin stoker sheba baby one several tough chick flick grier appeared including coffy foxy brown friday foster short lived girdler co wrote thoroughly routine private eye potboiler producer david shelton one night feature headstrong female shamus refuse rely man help take care business unfortunately sheba baby nearly good blaxploitation movie grier made supervision director jack hill hill helmed african american north carolina native coffy foxy brown big bird cage big doll house anybody analyzes image african american woman cinema familiar epic chief problem sheba baby heroine get many convenient break naturally secondary villain trigger happy clown hit side barn howitzer main antagonist dick merrifield qualifies egotistical well smarmy villain choice line like anything worth worth stealing additionally composer monk huggins provide strong atmospheric orchestral soundtrack best song barbara mason warbling good man gone sheba baby cast grier stylist chicago gumshoe sheba shayne leaf windy city return hometown louisville kentucky help father arrives louisville sheba learns father andy rudy challenger detroit trouble local black gangster nicknamed pilot cigar chomping urville martin hammer demand andy sell loan company pilot die initially pilot dispatch goon squad trash andy office heroine father catch act turn sheba father punching bag interestingly fight scene girdler rarely show fist smashing flesh earlier andy right hand man brick williams austin stoker horror high sent sheba telegram requesting return louisville receive immediately thanks lazy partner know find brick sheba hook rekindle romantic flame share night sack brick spends time urging sheba remain calm face adversity former louisville kentucky police woman sheba prefers shoot first ask question second arrives home sheba borrows father car barely escape blown bit walking door get father car andy receives another harassing call pilot previously andy refused discus prospect selling loan company pilot andy change mind agrees talk hoodlum gratified pilot warns andy dynamite attached ignition delayed action fuse word cranking car trigger explosion explosion come ten second later andy brick rescue sheba car blow earlier sheba agreed let father handle problem without interference dad know think man job going sit sideline woman sheba tell near death experience sheba vow learn sabotaged father car grille old contact day cop threatens guy gun extract information sheba ground guy face bucket chlorine dust relent tell pay town railroad museum brick accompanies sheba shooting ensues flustered pilot getting away skin chin later pilot sends quintet town contract thug armed teeth trash andy office gunsels ignore kill order shoot loan company office ribbon also blast sheba dad shotgun sheba retaliates short order wielding nickel plated revolver gun three four assailant dirty harry style last hit man discard weapon pleads mercy sheba finger trigger homicide detective phil jackson charles kissinger abby uniform cop arrive scene hospital andy shayne dy holding daughter hand naturally pilot furious revelation fury border apoplexy afterward sheba track loan shark walker christopher joy cleopatra jones pry information pilot hold gunpoint car wash one better staged scene lot ominous shot car wash equipment whirling humming walker warns pilot sheba pilot henchman confront sheba parking lot swap lead sheba flees foot nearby carnival police corner one pilot men deal others pilot shoot one accidentally sheba run pin pilot roller coaster track threatens hold roller coaster cut head pilot manages escape spilled gut sheba identity phone number big man shark dick merrifield hellcat whose reputation immaculate detective jackson describes guy right answer sheba baby top notch pam grier however idea heroine handle everything without help guy make interesting well entertaining chick flick', 'subtle charm student film may contain anyone else bored death waiting wendingo show paper macho face anti climax pretty much ruined sort momentum speed actioned develop get wrong exploring america dark underbelly turd flamb get nod watchable fact p clarkson look hot taking sadly guy wing best minute film offer felt like ripping deliverance could better', 'found film one dollar film complete waste time reb brown mark hardin played military adviser south america successful capturing leader rebel soldier operating dense jungle however mark join opposite side horrible torture inflicted woman men one scene mark drink hotel bar eye catch glimpse sexy long leg sandra spencer shannon tweed dead sexy mark sandra extreme hots even make passionate love hard rock time comfort bed horrible film worth wasting time even look', 'saw dentist thought cool movie everyone especially people like gory scene dentist lot gory scene r rating beverly hill dentist dr alan feinstone find wife brooke cheating poolman best go dentist watch like going dentist already best watch may put going life dentist best bloody revenge ever seen ever seen movie dentist spoiler pull cheating wife teeth cut tongue anesthetic overall awesome flick everyone', 'like keep review short simple pretty much sum beat original two number reason one including directing talent chris columbous movie terrible directing covered even terrible acting cant even believe people considered actor painful sit watch storyline complete joke secret chip russian terrorist painstaking quest get back horrible rent one original tow enjoy movie even set christmas like original home alone turned excellent christmas time family comedy movie joke moral plot', 'name cult movie often given film continue screened sell home movie format generation first released superchick first released come category cult status largely due ongoing interest woman regard early effective feminist film despite superwoman connotation superchick cartoon character competent young lady working air stewardess career option commonly regarded one glamorous open girl also enables emulate traditional matelot reputedly wife every port since hold black belt status karate position make quite clear happy bachelor existence way beholden extensive suite male admirer film situation comedy avoids generally much shorter lived appeal outright farce appeal feminist also heightened climax heroine us karate ability avert hijacking save passenger plane potentially unpleasant fate ensure film appeal men well partner director wisely ensured liberally sprinkled eye candy superchick enjoyed critical want light easy watch comedy forget soon viewing forgettable probably find equally enjoyable watched year time despite age may therefore retain status cult movie time come however dialogue acting would make hard give film rating', 'would rather root canal go film prince annoying myles berkowitz wasted nearly two hour life piece cynical pseudo cool amusing thing whole mess mr samaha obnoxious camera patter tit as berkowitz take great concept grind dust choppy badly done apparent effort make seem edgy funny neither seldom feel movie waste film tape one qualifies distinction date suggests seeing film run', 'tedious turgid boring mess classic example wrong contemporary english theater film exciting closet full dirty sock opposite living film presence joanne whalley give spark', 'quite anne rice book adaption film filmed australia offer great amount scenery fantastic area shoot lestat stuart townsend recently woke long period time sleep decided betray vampire oath revealing band becomes popular movie icon fellow vampire understadebly go mad plot death meanwhile jesse marguerite moreau orphaned member supernatural study ancient vampire family tree become deeply obsessed lestat bos david paul mcgann understands obsession revaeals obsession vampire marius vincent perez ancient vampire man made lestat vampire jesse given lestats diary read first killing encounter queen damned akasha aaliyah lestat hold concert death valley receives news angry vampire akasha may come well meanwhile akasha plan go vampire coven bar kill everyone path lestat tempted royality loving care akasha ancient vampire consisting marius jesses aunt maharet lena olin plot join die thought film fantastic great fight scene great music great location aaliyah sadly passed away plane crash shortly film premiere looked stunning set set gave film fantastic film urge see', 'began watching replay tv movie sunday afternoon thinking another dumb airplane disaster flick wrong pandora clock intelligent political thriller far beyond quality tv movie could easily made debut big screen cast excellent including veteran actor richard dean anderson edward herrmann robert guillaume robert loggia daphne zuniga turn one best performance medical specialist working cia frasier jane leeves also good dialogue well written story compelling throughout fact final hour filled plot twist suspense leave seat second get chance see movie invest time nearly four hour richly rewarded', 'rollerskating vampire sorry even way cheesy remotely scary excuse original odd kitsch moment parodying old movie tv show done sequel needed little le camp even outlandish plus first movie presence chris sarandon man could even make stalking discotheque casual knitwear seem seductive one sorely lack danger anything happened seemed silly admittedly saw already huge fan original remember disgusted sequel fright night tacky spoof deserve appraisal whatsoever', 'let start saying understand invasion star creature meant parody sci fi film understand none taken seriously problem none work parody funny one entire runtime much crack smile general easily entertained find sliver entertainment anywhere invasion star creature knew trouble right beginning two star make screen appearance one lamest gag imaginable water hose control get wet two come bowery boy wannabe anyone would want mime act persona bowery boy beyond le illustrious beginning movie go feature comical chase sequence dancing indian vegetable men decoder ring assorted unfunny bit complete waste time bought double feature dvd invasion bee girl movie academy award winning stuff comparison invasion star creature', 'explanation screenwriter pamela katz gave mvt introduced jg specific character film historical record clear joseph goebbels directly responsible release rosenstrasse prisoner needed way get goebbels film woman like lena woman aristocratic family connection unthinkable would make attempt go top idea getting goebbels impossible became hook insist seeing actual sex act read new thread fire away jan lisa huttner film two', 'great animation movie really get level oldie like lion king went see one best belgian friend also watched series tv lucky know people belgium aware wallace gromit started good old theme started started bring back memory watching humor funny nice sitcom style scene wordplay plain joke animation impressive know series still fun watch realize get done conclusion keep happy entertained humor easily appeal older people say go watch curse rabbit soon', 'mock documentary pair canadian producer bobby myers matthew modine paul linder saul rubinek trying make first film late hollywood north comic tale struggle pull everything together despite number conflicting thread hollywood north work film way similar spinal tap work well namely although exaggerated way close truth truth consists behind scene fact different public face industry easy make film must especially difficult canada late film involve ten hundred people many incompatible desire motivation personality especially crucial financier screen talent either drop becomes undependable stage film production could jeopardize whole affair either necessitating extensive reshoots abandoning film altogether surprising hollywood north focus kind relationship result excellent film hilarious tragic time script flawless performance top notch must see budding filmmaker anyone serious interest craft film making also entertaining viewer modicum intelligence sense humor', 'material make final edit film might keep aside case director cut extended version released one day might sell stock footage used part another film might bin might collect accumulating film make use make another film disregarding coherence sense throw primitive skeleton narrative line number opportunity nay excuse slot celluloid cast offs excuse abjectly nonsensical nature plot framing mind horror film director got awful film done day shooting idiot like waste two hour life watching come try warn others away whole chain event one big waste time', 'well endless quest horror come across film apparently released dvd recently ungodly reason transfer awful quality suck think due bad remaster anything think film poorly done obviously filmed abandoned school budget doubt wasted cheap beer talent hack slaughter high start slow pick pace hour first get see nerd picked group actually even know supposed jock ringleader ultra hooknose ugly definitely cast nerd big guy couple dumb loser chick supposed hot mystery group reject picking one guess viewer assume cool kid picking dweeb casting choice horrendous high schoolers played thirty somethings reviewer pointed actor call bunch brit whose accent slip numerous time throughout piece crap left assume group child student school reunion school shown abandoned kill lame gore great script like scooby doo real people line like place give creep someone gimme beer highlight good skip one unless getting wasted friend wanna laugh real lame attempt slasher wanna see good get bava bay blood done year earlier heck lot better wanna see good bad slasher see dawn burning kid', 'well hype surrounding film surya labeling film path breaking went theatre expecting something big boy disappointed first characterization film weird wife would kundhavi jyothika idiotic coo coo one point standing rain child baby shreya husband fight purpose scene anyway start vulgarly shot maaja maaja song canned aesthetically needed screenplay needed secondly first half practically story entire first half freaking drag every scene first half film significance ever real story film also aishwarya bhoomika chawla change radically sudden gautham surya kundhavi lead happy live together six year even though unhappy marrying gautham love aishwarya like claimed even marry kundhavi even uncle death wish question keep asking whilst watching film fair ending aishwarya gautham first wife krishna director film claimed worked script film two year script filled flaw leaf audience utterly irritated thirdly krishna un imaginative picturizations rahman awesome disappointing surprisingly anthony editing usually superb new york nagaram song suck whole song looked like slide show made microsoft power point munbe vaa rangoli chorus wasted showing gautham playing football want see freaking dude playing football beautiful chorus whats whole movie needed two song munbe vaa kummi adi rest song inclusive machakari maaja maaja new york jillunu oru kaadhal needed rahman fine effort simply wasted stupid film directed amateur director fan rahman ask rahman keep moving bollywood looking way song picturised kollywood would want stay irritating krishna decided include machakari film song cut half truly truly annoyes surya look handsome new get ups save one college scene pack performance expression song featured really fit way singer sings song jyothika even acting film cry would call cry acting one worst performance ever new hairstyle suit looked way better vettaiyaadu vilaiyaadu costume new york nagaram song way bhoomika chawla gorgeous film justice role vadivelu comedy annoying one watching one wish could slap face santhanam show stealer comedy scene heck sukanya even agree minuscule role could done anyone make heavy perfect complexion music r rahman awesome machakari munbe vaa new york jillunu oru kaadhal deserve special mention r rajasekhar cinematography ok good previous film though scenery kummi adi song deserve special mention anthony editing really really disappointing film freaking draggy could trimmed severely krishna direction suck dialogue c durai krishna corny digest especially part bhoomika professes love surya screenplay script krishna horibble film move un interesting pace ever krishna script filled unexplained sub plot goodness sake much advertising film pepsi maggi suzuki name producer film k e gnanavel low budget desperate overall jillunu oru kaadhal damp squib title like one would expect heart warming cooling love story end painfully botched love story really really disappointing', 'winning award nominated doubt film stand one best fact made non professional trained act dance make much special bollywood production art lower caste girl want sing dance want move society limit everyone cannot president india caste system narrow mind allow breached vanaja mamatha bhukya quits school go work landlady urmila dammannagari accomplished dancer time working animal taught sing dance film strikingly beautiful rich color amazing done film master project writer director landlady son karan singh return america run office struck girl lower caste vessel lust thing better home father drink eats steal money end pregnant sell baby landlady end never rise caste story fascinating acting really good', 'fun watching red eye masterpiece well directed structured cillian murphy rachel mcadams perfect role yes old story different setting wes craven gave good pace least another scream usual college killer nice see clean coherent thriller even originality stand main character particularly film maker like craven brought many innovative idea thriller horror genre past lends bringing home could good tv movie released theatrically good job', 'lucasarts pulled yet another beauty seemingly bottomless bag great game proof required rule genre gaming actually playing game little concern writer going keep pace gag first two game fear rife going wear bit thin play game see quickly fear allayed introductory video guybrush dodgem boat closing stage funfair joke keep coming great fan first two game lucasarts work day tentacle sam max etc one fail deliver quality disappointed well', 'ok film film take crack video movie making could entertaining could funny edgy even controversial least interesting yet film bizzaro negative version hamlin entertaining b film producer shatner played crazy yet likable best line rest character boring predictable boring underdeveloped boring boring production value lame actually see boom come one scene sound awful scene hey big fan shatner hamlin talent wasted least story clich ending', 'movie laugh half first scene appearance mel torme big bad jaguar drivin stud muffin gang leader giggle fest final image mamie van doren rehabilitated angelic teen strolling prison errr loving girl home run iron fisted nun stop shaking head cast movie cheesy list mel mamie talentless paul anka wanted movie stop singing king forty year old teen dick contino gloria talbot playing humorless teen girl chop judo acting last saw horrible misogynist romp leech woman hairstyle bad looked like dead woodchuck squashed mac truck mamie bad bad girl smoke swears run wild hit teacher run around gang leader dump idiot jaguar driving boyfriend chip see first scene trying rape blonde girl fall cliff nice guy proceeds take dick contino instead whether step anybody guess mel show party new beau accuses pushing nasty chip cliff sure would liked stupid fight scene contino gang mel jazz freak ensues hilariously bad move side mamie end sent girl town reform school errr loving home erring girl run sister iron pant fellow sister correction annoys nun u scatting tossing sullen one liner generally showing bad quickly run gloria talbot playing one misbehaving girl give chop sockey know place meet limp noodle girl obsessed paul anka character little drip becomes henchman long bit movie nothing much happens except st paul anka keep showing proving saintly sings way much interval want smack huge snozz make quiet mamie little sister played princess father know best fame call tell trouble turn si went chipster mel blackmailing found girl break go save hysterical fight scene girl mel boy race mel dick stupid boggles mind overage teenager corny movie fabulous good time romping basically silly badly written morally preachy film accomplishes none aim unless aim make laugh loud', 'two distinct way enjoy snappily written seminal tv show godfather x file buffy etc monster show scared hell kid well written acted gumshoe film noir work level scariness may diluted year made mid pleasantly surprised upon rediscovering show via dvd actually enjoy latter reason late darren mcgavin karl kolchak eccentric tenacious rumpled newsman monster hunter pursuit story always find supernatural angle much pain kolchak stressed put upon bos tony vincenzo played tremendous world weariness also late great simon oakland practically feel pain budding ulcer interplay character crackling witty much like star trek spock mccoy acidic course two pilot tv movie one season series kolchack fought vampire robot werewolf witch zombie government conspiracy alien ancient legend sound like entire yr run x file one season kolchak first composer gil melle cool partly whistled main title music well x file creator chris carter call mike snow similar x file main title theme homage theme work well leave unlike many modern horror sci fi show kolchak monster shown shadow quick cut effectively sometimes thankfully hold modern scrutiny still modern horror show take note le one flaw show small one use sunny california locale passing windy city chicago night gallery issue unavoidable modest budget l based show supporting character seem fall viewed clich effeminate reporter ron updike always used comic relief sweet old lady advice columnist emily moment shine unlike many supporting tv character since clich kolchak timeless show serf template many followed carl kolchak one richest character ever written horror genre tv show agent mulder real dad footnote tried watching episode new imagining show x file clone copy copy bad one carl kolchak model pretty angsty something played dismally boring stuart townsend giving scully type partner also lame idea undermines kolchak lone quixote crusader kolchak vincenzo getting along tension interplay chose hang kolchak name regurgitated bit crap prime example remake take beloved cult series scrape everything unique drain character color keep name need cult cred voil instant hash get f imaginings new version deserved axe stick short lived classic original truly get better age', 'maybe people like devil around god maybe like safety net reason making mistake blame devil pain suffering world much hardship spilling mass difficult see sadness face pas leland p fitzgerald understands know maybe everything ok maybe helping someone leave earth avoid pain life waiting risk need take someone love credit go screenwriter director matthew ryan hoge creating lyrical prose two suburban family crossed path good time bad looking cast almost b list actor show material really resonates audience emotion need worn one sleeve exist sometimes want end suffering ryan gosling brings understated performance table encompasses inwardness character leland emotion passionate intelligent young man cutting b life knowing see accepting worse better film catharsis soul affected horrific event leland killing ex girlfriend mentally challenged brother confused mind teen go incident knowing full well going going stop pain see everywhere face young ryan pollard almost immediately realizes made mistake maybe playing god job put earth whether true soon put debate murder begin chain event finally bring meaning many people life wake tangential fragility life boy opened eye sorrow rebirth haunting ballad sung former sunny day real estate frontman jeremy enigk movie go journey small vignette two family life aftermath tragedy acting superb throughout special mention someone play na lug film chris klein actually well much material yet also evolution man purpose aloofness effective utilized right part similar success election interested see director allow expand talent sink teeth something substantial jena malone effective much effect well playing role troubled youth donnie darko life house cheadle stalwart professionalism giving u different take compassionate therapist one manic martin donovan brilliant grieving father trying keep wit together eventually realizing must keep family falling apart well also great seeing beautiful sherilyn fenn small important role tragedy hit people band together get leland astutely point one point see men woman helping others hugging see pain suffering surrounding couple day everything go back normal cheadle character extrapolates optimistic viewpoint least get glimpse people true nature wanting help good shot back retort well least tragedy maybe want think good natured make u feel good time bad must turn meant flawed allow rebound try leland mistake let see love close well opening eye others wake let loved one drift one focus sadness others must first come grip hoge crafted parable truly effective piece film making hopefully many come', 'movie probably worst seen bad acting bad script bad everything comparing mainly two movie genre approximately time interesting cyborg van damme nemesis olivier gruner much better seems robust story directing still albert pyun directed two well story original world become terrible place possibly due environmental disaster nuclear war people live medieval circumstance special breed robot cyborg live human blood story cyborg need get lot human fulfill prophecy human need someone stop one girl together robot kris kristofferson built creator cyborg appointed destiny save mankind movie director try hong kong stylish fighting scene participant flying high leaping far movie fails miserably attempt recommend film reason people get new worst ever movie relate fan genre recommend cyborg since think underestimated movie quite high entertaining factor stand van damme check nemesis rated movie', 'nothing left undone perry croft masterpiece good best episode thankfully still filmed time late james beck sadly passed away included show talent show right start platoon formed state national emergency showing boy inept captain mainwaring arthur lowe sergeant wilson john le mesurier usually series along way mainwaring usual longing show authority chap help let every turn wargames suspecting invasion chance film though redeem actually capture nazi airman take church congregation hostage nice finale especially mainwaring able prove general given one last chance shape great film plenty good line laugh another one dvd cupboard glad bbc repeating day deservedly dad army night missed', 'think filmographic lineage may run like pay attention please look peter yates ex auto racer directs english caper movie robbery thrilling part car chase street london alley crowd child playing success year later yates directs bullet starring steve mccool mean mcqueen featuring another even spectacular car chase san francisco hill dumbfoundingly authentic engine sound seem include double clutching full race cam muffler twelve cylinder engine forty foot hood supercharged superdupercharged five thousand horsepower running full tilt lot shot mcqueen gum chewing visage scowling concentration try bump another car highway though passenger vehicle tote shotgun chase staged philip antoni bill hopkins drive criminal vehicle year two later sensing good thing bill friedkin directs french connection featuring chase commandeered cop car gene hackman elevated train new york city lot shot hackman cursing face wrestle battered car street chase staged philip antoni academy award follow sensing good thing year two brings u seven ups featuring chase car driven roy scheider lot shot scheider cursing face try bump car driven bill hopkins road although criminal car sure carry shotgun toting passenger hill new york city bump still sharp enough elevate car foot pursued car screech around corner dash street dozen child playing shot screaming kid scatter pavement allows car zoom enough child immediately run back street must repeat retreat pursuing cop car carrying scheider witnessed pursuit high speed street philadelphia criminal cop drove street mile hour coming rolling stop stop sign red light dull stuff compared movie speaking movie pretty good robbery bullet cool everyone dressed neatly new york movie filthy garbage place subway car covered graffiti shoot out beat ups take place vacant lot surrounded crumbling brick building disposal dump industrial sized freezer acting pretty good roy scheider seems whippet sleek actor face made camera especially richard welsh story engaging entirely unfamiliar best film way capture new york city almost total indifference human depravity nobility funeral limo driver stand around collar butt hanging mouth kicking cold foot together utterly bored ritual going film want u believe seven ups elite group untouchable cop stop nothing get job done bit sell always seems threatening something unethical illegal beat hell suspect physically damage hospitalized helpless hood always manage avoid actually character would become lifelike ambiguous rather hero villain biblical nature enjoyable even seen well may one another previous incarnation', 'rented movie low expectation saw realized movie le lot le expected actor bad doctor wife one worst story stupid could work disney movie except murder one comedy laughable masterpiece stupidity title well chosen except one thing could add stupid movie dead husband give half', 'growing gritty street detroit mi friend traveled new york ball fell lifestyle house member joined house theieves adapted rule house professional crook would boost commit credit card fraud obtain fabulous jewel clothes desired even learned profess making check driver license cash seventeen state jealous queen called secret service went federal prison learned lot queen movie highly recommend watch even read grew house detroit criminal activity indulged book identity scheme available sale amazon dot com identity scheme dot com trust lot better paris burning make', 'racking brain seem think another movie quite like valley gwangi western dinosaur could natural gotta wonder john ford john wayne never tried plot searching mythical miniature horse circus tj breckenridge gila golan tuck kirby james franciscus rest cast character enter strange lost valley find miniature horse fearsome creature well dinosaur rule place attraction tj circus caged rex find valley gwangi bad movie seem enjoyed much many others posted comment movie part actually find almost unwatchable first half movie seem much going necessarily bored want something happen plodding would adjective would use top movie feature contrived love story feel forced writer decided male female lead get together valley gwangi total waste moment really enjoyed get kick scene cowboy horseback trying lasso rex see stuff like every day ray harryhausen creature impressive really cool shot harryhausen miniature interacting people horse might represent best work effect nice still least mind good moment enough overcome negative much hate got rate valley gwangi', 'would hesitate put adaptation death trap top list best stage movie adaptation ever caine reef underrated actor never really got chance soggy romance superman play extremely well even dyan cannon normally care perfectly cast role exploit annoyance value actress sure comparison deathtrap sleuth another brilliant stage screen adaptation featuring michael caine valid even fair yes two story lot common sleuth much class warfare battle wit house sleuth set least much character movie two actor house really equivalent deathtrap deathtrap much battle wit pointed vignette people damned good never smart think deserve everything get say movie superb example genre well worth time money america choose give away twist turn plot think matter anyway watched dvd eight nine time dozen year still enjoyed chemistry timing mean scary moment thing go pear shaped done well ride becomes important actual destination anyone like black hearted comedy suspense hitchcock style film making probably enjoy deathtrap immensely', 'intriguing exciting dramatic explosive complex epic word touch tip iceberg term grand story lost told acting rare visual effect lost essential show television fan science fiction fantasy action adventure lot lot mystery cast member well chosen good role either love hate downright wish dead visual effect used rare actually quite well done considering usual production show smoke monster polar bear lost believable term eye candy far story go nothing compare vast complexity show made viewer like endure beginning end continuity virtually perfect character developed ever evolving story slowly give answer question many crave overall practically flaw lost dramatic sci fi television arrested development comedy set bar highly recommend lost patient intellectual love every moment ride matter long take reach end see show', 'come fantastic drama screen joking folk put horrible molly gross play even school play people learn acting borrowing paper neighbor actor terrible plot awful acting heh take u imbecile say understand tv production acting supposed one citizen kane nevertheless try harder order earn money apart said line simple movie like u wanna article morning paper say worse film decade ok want got', 'seeing film feel like know little bit usa david lynch synonymous shock value weird weirdness sake indeed element missing straight story however light witnessed lynch begin simple family living quiet life end array absurdly interesting character depth life cannot apparent introduction especially moving bar scene two wwii veteran discussing event fifty year ago still affected current life emotion looking wild heart dune look looking real people real story film', 'one heck sleazy film like many woman chain film one chock full lesbianism however unlike prior film strongly implied black mama white mama show awful lot skin horny female prison guard leer woman shower well sex one inmate early definitely soft core pornographic film sort like girl gone wild go prison also bad rip defiant one though case two hot female hate chained together escape whereas original film considered classic one considered classic example bad taste subtlety movie cheap cheap thrill cheap writing cheap acting pam grier black inmate attitude lady set sent prison hellish island margaret markov revolutionary escape stand opposite goal however since clich driven really surprise film end becoming gag friend', 'movie appears made someone good idea also never made movie considered script edited even funny saw film saw john candy assumed incorrectly would hilarious instead stupid plot mind control many flat unfunny moment top candy delivered crudest line ever heard time despite potentially funny cast story idea left amateurish crude movie probably stupid average adult though teen probably find laugh really shame could much better mean eugene levy joe flaherty john candy wonderful', 'hitchcock third hollywood feature appears yet settle pattern consistency turning faithful adaptation classic novel rebecca espionage thriller foreign correspondent romantic comedy mould screwball picture hitchcock formal method hand settled something consistent much unable least unwilling deviate unwise step outside usual genre romantic comedy particularly inappropriate rebecca actually great see hitchcock constrained producer source text forced turn technique heavy gothic drama mr mr smith huge mismatch form content word hitchcock ernst lubitsch first let look romantic angle best love scene hitchcock film wild passionate slightly dangerous ever fallen love someone situation great depicting something make much earlier film rich strange one hitchcock non thriller really work hitch good however come gentle familiar love story light tender touch required hitch secondly take comedy course hitchcock film could funny lady vanishes probably best example joke sprinkled throughout story master suspense simply enough comedy director create film funny bone cut scene would thriller snappy opposing angle people talking inserted close ups hand foot point view shot allow comic timing focus gag example business carole lombard dress bursting seems shown u couple close ups timed revealing crucial plot point comedic impact occasionally hitchcock style roughly coincide comedy example arrangement character scene club robert montgomery try make look attractive sophisticated woman next table moment far even cast mr mr smith standard sure robert montgomery strength lay boring course exactly queen screwball carole lombard strength lay yet clearly acting well scene simply geared capturing comedy performance even jack carson could hilarious really allowed let go camera fails perk thing course neither fine comedy actor helped screenplay exactly bursting laugh first place even basic story fairly good premise full comedy hitchcock made trouble harry sort worked played upon familiar suspensefulness however story could exist independently humour basic framework suspense lady vanishes family plot hitchcock capable comedy well', 'wife really high hope film major disappointment native american version mr magoo pathetic father fails everything try e g fishing hunting obvious way subject family wild fantasy vision ridiculous process lie son numerous time various obvious thing word cannot express bad film child wife real make film even sadder get humor unless like laughing people making fool get could come award save buck worth rental', 'ever waste time pointless movie remake need retold everyone coming theater comment worst movie ever saw save time money nicgolas cage biking hill swimming murky water rolling hill attacked bee yet suit still perfectly pressed shirt crisp white last scene although good cast ellen bernstein cage acting unbelievable movie amazing good actor bad movie get copy script first still interest seeing movie least wait come dvd', 'others may contend viewing work bilal one better appreciate movie fail one major way stand plot mishmash confuses symbolism substance idea start definite story craft symbolism around start two different narrative female somehow turning human god reason judged getting one last fling earth mysterious john character seems developing sort resort beyond bound city none question answered care development want u empathize character story closest get jill even development spotty best unfortunately movie get caught whole visually impressive expense motivic development would love see rewritten someone could distance material bit feel every image picture', 'firstly would like point people criticised film made glaring error anything rating clearly utter nonsense creep absolutely fantastic film amazing film effect actor highly believable narrative thought provoking horror graphical content extremely disturbing much mystique film many question arise audience revealed strange freakish creature make habitat dark rat ridden tunnel craig created happened fantastic film large chill factor film many unanswered question film need appreciated along others like day later bunker dog soldier deathwatch look forward fantastic film', 'disposable movie history cinema one strong contender wasting much money pointless useless work difference hitchcock classic poor imitation color wide screen leila walkman movie supposed generate thrill fear leaf completely indifferent going tell urge young generation see original balderdash psycho giant spoiler could done something different instance casting actor closer bloch bates obese man content obnoxious rehash pox long live alfred hitchcock', 'watching oldboy little disappointed rest park work good never approach level humour originality oldboy one nothing like oldboy plot style level quality acting good kang ho song ok bin kim ha kyun shin delivering excellent performance kim particular manages swap creepy horror scene surreal comedy without slightest misstep plot strange lot twist turn take big swipe vampire clich directing spot ton pace humour throughout memorable scene ever seen boast probably weirdest love scene ever see great film', 'like first film series slaughter think would mistake label blaxsploitation film sure slaughter tough gun toting black man action picture regardless color leading man bad guy good action picture second final time jim brown play title character film begin one goofiest scene remember film slaughter friend enjoying outdoor party along come biplane begin spraying group machine gun fire slaughter tough shoot plane slaughter ticked one sure hit happened however slaughter going get bottom well turn hit attempted retribution last movie slaughter take mafia kick lot butt mexico horribly bungled clumsy attempt guy plane kill injure quite people miss slaughter job bungled badly mob bos ed macmahon order pilot gunman killed brutal assassin stroud typical sort role stroud great scary nasty core ed macmahon bos wow interesting twist slaughter stumped figured two guy plane time got dead help along private vendetta brock peter play cop tell mobster ordered hit got slaughter agree help illegal undercover work slaughter pimp friend break mobster mansion steal list payoff key government police official naturally lot shooting bloodshed process stroud let slaughter get away kidnaps slaughter girlfriend standoff slaughter list give back lady dead tough gallant man might able guess much happens next action good film jim brown menacing tough negative noticed macmahon play nasty bos end simply folded way quickly slaughter catch macmahon becomes wimp previous nastiness disappears much clich inconsistent still despite minor quibble engaging film kid due violence boob', 'disturbing thing film load hogwash cpusa never really much espionage threat movie make troubling aspect way whitewash wholly unsavory tactic fbi unamerican activity committee secret informant gossip turned accusation warrantless search kind thing secret police thug like kgb presumably good patriotic american fighting yet fbi bat eye realistic part movie present sense shame add undermining constitution communist invoke bill right film also make thinly veiled accusation black civil right movement communist inspired another pack lie extremely difficult day excuse outrageous propaganda even understanding paranoia time one realizes damaging real people', 'saw movie really liked dana plato later starred different stroke kimberly drummond think garbage meant sequel documentary either cute kid movie child go men trying find boggy creek monster men get hurt kid rescue help creature haunting shot arkansas swamp scenery neat good movie kid real violence mild scare good fun young kid', 'rented movie last week saw kevin spacey morgan freeman seemed promising justin timberlake came scene really bad actor allowed make movie ever mean one boring uninspired actor ever seen put absolutely emotion line whatsoever hell cast role josh pollack think matt damon would better choice kevin spacey another big disappointment character dull seems like bad mix character american beauty john doe se en might sound cool believe dylan mcdermott acting good one good thing movie inspired morgan freeman good nothing special really cool line though story although bit obvious exaggerated time good expecting big twist lazerov dylan mcdermott killed nothing really happened', 'big fan version seen many time consider subtle excellent film version bought yesterday bit hesitantly seen glad truer book austen insight version dramatic power largely sharpens many character version lady russell snobbier manipulative le truly looking anne sir walter even vain vapid elizabeth nastier mary insufferable mr elliot smarmy lady dalrymple much stupid think characterization version closer book austen vision real people time version also includes key line scene book including especially key scene field anne overhears wentworth talking louisa henrietta importance strength character found acting subtle evocative many critic acting version powerful agree critic actress play anne old part looked entry imdb time filming character supposed thought acting subtle effective however wentworth correct age found convincing particular version wentworth much sense humor teasing one much sense power sea captain would passion admiral version lack gruff presence human warmth one version lack feeling power admiral certainly would convey found one truly weak element production agree others staging falling scene wooden seemed unconvincing would injured little fall however could banged back head edge stone step really would produce dangerous injury would make scene convincing scene version fall farther clear sharp edge could plausibly cause major head injury costuming criticized expert respond note none navy character wentworth admiral croft benwick harville version wear uniform version consistently wear fancy uniform suspect version accurate one always bothered bit version officer always uniform clearly nation peace officer detached active duty father grandfather career u navy captain commanded aircraft carrier submarine spend every day leave leisure dress blue doubt different year ago uniform give version lot zing prefer doubt accurate historically officer wore uniform frequently lastly true production value version lot le version given year tv format budget blame artist contemporary viewer make mental allowance lower production value find version well worth time', 'first heard movie noticed one controversial film noticed music elton john figured nothing loose got surprise movie awesome true love character paul michelle luxury money sometimes food yet still happy recommended film friend critized taste even called name becuase movie featured two minor naked think made movie realistic cinematography great come show great ability director lewis gilbert', 'first child play original effective little horror movie expected though horrible sequel seemed spell end franchise well heard making th one called bride chucky rolled eye muttered ever learn heard gotten great director ronny yu solid cast including awe inspiring jennifer tilly interest perked film extremely well done great sense humor highly stylized graphic violence great cinematography stunningly sexy jennifer tilly strutting impressive stuff first half add also fantastic actress well keep tongue firmly cheek without veering campy territory doll effect great verbal interplay priceless horror comedy straight horror humor welcome well integrated already heard planning son chucky match quality film maybe franchise made legitimate comeback rating', 'shlock merchant leo fulci take change pace making trashy barely coherent sword sorcery fantasy movie instead usual trashy barely coherent horror wimpy orlando bloom type called ilias society vaguely resembling ancient greece travel across ocean caveman territory vaguely defined quest battle evil join animal loving hunter battle wolf man mutant minion vampiric topless evil sorceress wackiness ensues sorceress oppressing local caveman want magic bow sends various minion weirder last hero win end striking blow oppressed caveman everywhere movie contains steady stream wtf element moment reason entire movie shot soft focus picture blurred constant presence mist screen may attempt create atmosphere hide fake everything look either way failed atmosphere unless one scuzziness mild bewilderment hiding lame everything look wolf man minion look like poor man wookie reason director fell love shot leaping air slow motion six million dollar man style toward hero attack probably dozen shot throughout movie get goofier every time minion topless sorceress generic leather clad human lumpy white mutant appear covered cobweb needle say slow unthreatening speak sound like gay hispanic lisping daleks fight stilted unconvincing special effect woeful oh yeah music cheap synthesiser stuff maker doctor would embarrassed used ilias nominal hero bland forgettable also look complete wuss especially midriff revealing leather outfit big hair clearly moron sure dynamite shot magical bow take three four arrow mission battle entire continent evil needle say run arrow within minute saved traditional sword sorcery hero mace meet ilias establishes taciturn loner type claiming friend sooner say latent homoerotic subtext bosom buddy traipsing misty hill together mace promise take ilias return bow related favour ilias asks going wherever leg take reply good enough ilias mace also animal lover outrageous hypocrite proclaims great love affinity toward animal citing usual stuff prefers human human soooo mean say would never hunt kill animal feed steal meat people hunted animal also randomly killing innocent passer good reason long meet testing ilias bow movie cut random caveman minding business walking along mace shoot dead indication poor soul anything deserve even ilias supposedly hail moral civilised society even raise eyebrow film villainess quite unusual entire movie completely naked except g string golden mask encompasses entire head like fulci included make movie obligatory quotient decided bit much butterface last minute spends lot time seemingly pleasured pet snake dreaming shot faceless bow wielding man dressed like ilias wow symbolism later movie wimp beat ilias mace promise make sex slave ancient warrior dude kill hardly world scary villain really step forward woman right think sic cobweb creature hero impersonates mace situation one else around mace fool really worthy trading self respect ocron quite wtf moment come toward end movie ilias wuss forget possibly permed hairdo got mussed realizes error way return aid mace fighting force evil sudden reason bow suddenly fire multiple target seeking bolt energy bolt also shoot solid rock necessary needle say make short work horde bad guy captured mace climax also rather nonsensical mace decimates ocron remaining force using bow targeted laser attack capability able shoot ocron kilometre away using shoot rock capacity start dying mask ripped revealing hideous muppet head stagger around screaming turn dog wanders another dog mace smile roll credit strangely enough far dodgy low budget sword sorcery movie one reasonably lucid focused one seen wizard lost kingdom tell nonsensical meandering movie truly', 'let begin personal note film television buff enjoyment side life love james wood done always love melanie griffith natasha wagner good awful miserable stinking true crime essay whoever really wrote film apparently never spent time talking real criminal real criminal talent yes thief junky short career thief truly successful thief seldom caught junk drug going score job james wood character true paradigm beginning film script fell apart completely turn raging alcoholic lunatic nice work high strung guy like wood maybe least bit believable criminal lazy wanted work would work people film beautiful self indulgent drug addled narcissistic loser pull real score real world real world big beefy security guard beat living hell skinny kid happens early scene dog keep beat let ever many way find hate film many even totally vulgar people like sneak thief junky larger vocabulary cretin rip scene neo nazi bikers puhlease redneck neo nazi neo nazi speed dealer dumb film earned two natasha wagner extremely good role rose melanie griffith still something special least brutal offensively stupid film one sing praise real criminal reason reality criminal type horrible film dead jail act scene watching lousy zombie movie would time better spent thing hate zombie', 'easiest way describe movie satire target satire quite vast u government corporate america also stinging satire rather silly one think movie mix kentucky fried movie airplane police squad series done much smaller budget funny see movie satire many sci fi disaster movie see movie big influence tim burton mar attack plot simple enough genetically engineered giant tomato go crazy start attacking people city first cover blow full blown war movie run gamut character characterization lois fairchild lois lane clone ambitious presidential press secretary clark kent mason dixon fia agent worked since bay pig useless president seems able sign name attack new york even inept congress sleazy marketing ceo mason team consisting obese east german female swimmer scuba diver crazed wwii paratrooper african american disguise expert disguised george washington abraham lincoln hitler finally tomato also forget mention lot lot tomato kind tomato small tomato giant plastic tomato smashed tomato tomato juice finally people dressed tomato top couple musical number well good seem dubbed best tune far theme movie attack killer tomato way catchy might end humming singing public warned movie quite amusing show absurdity various real life situation well various entertainment genre believe induced laughter mostly smiled scratched head definitely recommend movie fan b c grade movie rental celluloid rehab', 'felt last night episode slow kinda boring time honestly think anything writing know story well staged tried keep thing place thought bad overall enjoy blame director episode stephen williams always hated stephen williams directing jack bender continues episode season premiere would kept good pace keep thing float keep thing interesting glad jack bender directing next week episode much better glad got first syaid episode direct curious pull time since stephen williams directed many syaid episode always keep thinking stephen williams need thrown show even anything interesting show opening done target thing helicopter boring bad perspective camera work', 'seemed find trailer better movie job made interested watching unknown interest waned early simple premise laking scenery five men wake chemical warehouse knowing let alone know hell got confusion paranoia brings fear distrust men learn kidnapper way plan kill hostage men size trying distinguish victim may actually one kidnapper cast includes jim caviezel greg kinnear joe pantoliano bridget moynahan barry peppper david selby adam rodriguez', 'know people think movie without even seen typical movie famous singer pink movie teenage film stupid stuff like yes mean pink movie know loved seriously romantic film think every girl world dreamed something like plot popstar met favorite singer know person even romance right ^^ really enjoyed watching addition really funny think actor great job lot loving character aaron carter jd exception honest first five minute see act thought awful surprised really pleasingly also gotta say music performance film great specially loved part jd aaron sings without music guitar beautiful song guy really talented time tell advice watch make prejudice', 'know begin cast full people never done anything since debralee scott listed cover box appear movie writing quite bad even college film obviously low budget one scene sorority house extremely choppy editing character pretty typical college film timid guy nerd suave black guy tough guy guy mustache attractive girl small town girl etc featured teacher expect middle aged heavy set guy get sidetracked easily wan see college flick stay clear one bad even funny', 'great book possibility truly great film definitely casting decision completely wrecked movie hank great actor sure lack smarmy morally ambivalent characteristic needed lead role jeff daniel would choice putting melanie griffith eye candy reason understandable portray depth ambivalence need pull movie great example every decision even early movie production make break file', 'wow mom bought movie sale really cheap store town know love scary movie first looked cover sighed thinking ordinary b movie trying scary wrong made great big mistake watching alone parent brother asleep really late seen movie scared shaking even dare go take videotape vcr slept light movie main story teenager drive road spend night wood telling scary story first story really scary make hug pillow really hard watch alone second story scary way first one third story favorite really really creepy scared story guy driving around country motorcycle one night storm outside go closest house knock door girl open mute wanna tell get chill watch might add heartbeat really abnormal watched campfire tale main story really interesting surprising ending know guy said sucked boyfriend friend loved long time since got scared rating oh way like urban legend much scarier', 'marlon brando frank sinatra hated film year following brando asked sinatra singing lesson sinatra already upset fact cast nathan detroit wanted part skye masterson wanted star singer production want one better told brando get lost get back marlon kept screwing scene diner sinatra eating cheesecake would keep eating eating eating later year sinatra gave brando nickname mumble mr mumble way talk', 'gay photographer called bob mizer daniel macivor founded agency male model releasing muscle magazine called physique pictorial movie men many model became prostitute beefcake show rise fall pervert alternating footage testimony many model bob mizer present day director thom fitzgerald used subterfuge show naked men lot penis along minute running time complete bad taste silly crap never heard anything morally corrupt bob mizer know amg opinion gay specific audience might like theme boring pretentious movie vote two title brazil carne fresca fresh meat', 'relentlessly stupid budget war picture made mainly show attribute spectacular eve meyer bad idea embarrassment everyone connected laughable script performance pas muster elementary school christmas pageant inept action scene confused direction normally competent documentary director louis clyde stoumen apparently quite sure making comedy philosophical treatise futility war leering early standard anyway travelogue eve meyer magnificent body general air shoddiness incompetence worth seeing order watch eve meyer strut stuff pretty much', 'unsure whether andy sidaris could repeat success cinematic hit malibu express film fit kill proved sidaris serious filmmaker one shot director plot written sidaris ungratefully passed academy complex screenplay involving many unseen twist turn main character composed work sexually based radio station known ksxy cleverly ksxy actually secret headquarters fit kill confront long time nemesis kane trying steal one russia prized diamond well written screenplay excellent acting cast help ensure film cult classic panned critic box office film appreciated year come suffering fate clockwork orange taxi driver future undoubtly become recognized disappointed critic circle recognized andy sidaris trademark filmmaking costume special effect help compliment already beautiful piece filmmaking may best ignore dismal rating film go rent personal rating drama thick blockbuster runaway bride action better equal cinematic masterpiece last action hero andy keep good work', 'saw film last night say loved every minute taken spirit parody bond esquire film truly superior true comedy film blatant disregard political correctness misogyny cultural insensitivity almost laughable macho ism film genre used major comic effect also call illogic formulaic element task agent os constantly learning difficult thing insanely quick arabic play traditional instrument missing pathetically obvious clue line film left laughing hour movie finished say learned interesting french vocabulary would probably professor quite exasperated use thought film excellent intensely funny first film ever seen truly parody aspect spy film', 'day ago watched documentary called fifty worst movie time first heard incredible melting man lover schlocky film making point try find film documentary including incredible melting man fact melting man first bad film seen since must say rather disappointed truly bad film come nowhere near close enough make inclusion list seeing documentary enjoyed bad film ever since read book fifty worst movie time harry medved despite title book came long long documentary maker documentary never credited medved concept medved book seen film come impasse rest film available vhs dvd thought try film name reason disappointed incredible melting man good element film first melting guy special effect generally really cool disgusting obvious professional famous rich baker involved making look realistic however also point also cheap cheesy effect well floating plastic head way monster ran around left arm cut could see cleverly hidden clothes story stupid group astronaut miraculously penetrate ring saturn without crushed comment beautiful sun see closeup odd since saturn far look way large speck regardless immediately scene change told one surviving astronaut hospital happened last scene one yep anyone guess well soon survivor escape engages murderous rampage entire body melt considering psycho running look like melting popsicle think government would pull stop find stop right wrong general engages one lone doctor find army police dopey doctor even body begin stacking point doctor general anything organize meaningful search get backup given stupidity film also surprised find following melting dude running around near doctor house doctor give wife powerful sedative leaf house cute old couple driving late night naturally stop orchard pick fruit killed lady see melting dude barricade door protect would smart back door house next instead leaving house escaping wait photographer model taking snapshot guy grab assistant yank top well give audience cheap thrill make rated r flick melting dude finally located sheriff clear shot doctor stop even though monster killed half dozen people see film abounds stupid plot element bad film given occasionally good special effect horrible film like hoped sure good laugh near plan outer space badness never included anyone worst film list', 'really beginning enjoy show started slow given chance deserved summertime many people home watching television know talent singing competition enjoy many believe american idol done year miss even though american idol thought potential feel bad singer show wee really starting grow wish would reconsider put show back think hasty move cancel complaint show care much judge', 'great movie rather challenging really entertaining sadly memorable quote one favorite alexandre leaving someone loved say telling farewell going disappear hide like criminal ignoble watch english subtitle opinion express much tactic involved relationship alexandre others yet everyone longs little bit truth however knowing truth hurt even alexandre experience common interpretation movie criticises mere possibility liberated love depicting unwanted implication people involved indeed show convincing manner would appreciate reason treated bit depth liberated love doomed failure people especially men think work try overcome ruling moral practicing liberated love said movie realistic though really worthwhile watching', 'jimmy dean could hammy absurdly loutish hysterical viewed eye mystery science theatre rate mean sight obese corn fed hog trouncing around malta enough send vomitory make far film ugly hysterical farce placed like booty call pumpkinhead swarm smurfs go bangladesh gulp film like prof sometimes actor writer producer etc get behind mortgage get stoned point insanity begs question stupid finance whale good judgment prevailed final justice never delightful spoof voice mystery science theatre', 'featuring amazing wonderful character new mythology superbly designed executed set nightbreed great film sadly lack well known lead actor lead film finding obscurity perhaps also homosexuality director lead film unwittingly censored white audience film decries none le film treasure monster movie superhero genre sequel featuring highlander style flashback different epoch history would interesting another idea would foundation new midian perhaps texas somewhere swamp lousiana crocodile men traveling freak circus', 'one film british lottery fund waste money main problem rambling script get nowhere character interesting story conventional insipid thing interest location city genoa genova italian superficial acquaintance genoa idea intricate alleyway old town city interesting thought genoa dull delighted say proved wrong travelogue point view film interest film contains one splendid performance little girl named perla haney jardine already made seven film despite seems determined upon career actress judging performance film go far natural great deal talent colin firth reliable professional actor hand filming asked earnest earnest asked anguished anguished somebody forgot give worthwhile dialogue script total shamble catherine keener exceptionally well supporting role showing sympathy come naturally everybody would like around would like tell every time feel cold coming know would get soothing hot drink genoa fascinating narrow alley interesting little girl sympathetic woman forget rest older sister played willa holland disgusting character fact young actress good job repellent exactly kind acting tribute would like hear suspect notion family go genoa forget unfortunate death mother trite another film like dead mother right complain exploited michael winterbottom wanted make film interesting old portion genoa go bbc say wanted make travel film mindless celebrity presenter waste money feature film nothing vanity project idle meandering vacuity', 'gosh learning pretty fast sometimes see film youngster year later gain different view primarily year learn example idea george cukor great director much made film fly say really liked film touched area paralleled life lifelong friendship two woman ever exist well certain dos yes film let bit youngster lot life experience first time saw focused rich famous part two time idea difference would happen two woman discovered would effect friendship men career decade defined coming realize one thing remained stronger anything else friendship knowing anyone else could got older studied film bit watched film best friend high school understand rich famous angle still best friend film cinematic masterpiece seen bit campy time little top point kinda dynasty dallas level honestly identify teddy bear scene share bear mean lot stuffed fun toy trial tribulation men career et al top seems many already said seeing meg ryan matt latanzzi dack rambo david selby great piece nice chick flick', 'even caricature need plausible plot line suppose part audience long ago would enjoy tepid farce age well give nat pendelton zasu pitt experienced expert support player shot leading role pendelton featured prominently thin man series try best matched witless plot backdrop stage play gangster exactly original material movie saving grace always excellent edward everett horton wasted performance waste time watching everett film would encourage anyone watch effort holiday cary grant katherine hepburn era much better script storyline better gag needle say star power well', 'upon time science fiction author named h beam piper wrote classic book named little fuzzy man discovering race adorable little fuzzy humanoid another planet mr piper died hollywood many today author starting looting grave cadaver got cold book got idea ewoks skullduggery blatant ripoff little fuzzy wonder ever noticed take word link project guntenberg download copy little fuzzy free http www gutenberg org ebooks', 'excellent movie starring elizabeth montgomery long overdue release dvd form said earlier also excellent movie case rape hope comment spur enterprising soul placing elizabeth montgomery movie one dvd made available many fan one believe excellent actress role unfortunately stereotyped role bewitched result serious acting role made available confident two movie perhaps even trilogy legend lizzie borden released dvd form fan would set record straight highly regard serious acting ability', 'st watched dir michael almereyda weird story druid witch try capture eternity inheriting granddaughter body least think relationship kind eerie quality held throughout film unlike stephen king shining difference campiness nicholson performance film taken seriously near end lame one liner attempt litening mood work performance problem story everything seem come together smoothly viewer left lot piece information real understanding happened film small throwaway performance christopher walken uncle granddaughter course give top billing attempt sell film buy gimmick avoid film', 'plot house game strongest thing successful author psychologist conned gang grifter discovering wicked part enjoys thrill finally get revenge pitch someone take responsibility coming across acted puppet director mamet lindsay crouse varied pretty steady tv film career perform badly time supposed go uptight cool controlled professional calculating wicked fast lady fun shown change beige trouser suit seems wear three day straight including underwear floppy floral sundress everyone seems speaking line clipped precise way imagine mamet wanting make sure syllable scintillating script got missed effect unsettling spoil atmosphere mystery suspense presumably trying create time house game loses connection human being actually behave talk becomes mechanism spin plot clunky vibe n oboe faux jazz soundtrack help either ultimate result entertainment guessing outcome sooner sooner get bored robotic two dimensional performance smoke much', 'best british comedy film ever year english comedy television program turned film flopped served dad army list go however popular dark humoured bbc television show league gentleman managed create film managed flop also managed best british comedy film ever dark horrific twist turn league gentleman apocalypse british talent best intriguing demonic storyline written league gentleman mark gatiss steve pemberton reece shearsmith jeremy dyson match gent guest cameo superb acting hope end royston vasey great success anyway think seen league gentleman telly understand whats going well explained end film happy result still left hungry mmmm special stuff', 'never seen theater second viewing tonight big screen dvd opposed old vhs tape rental store saucey time sure hayes code pushed limit hitch pallet game play two combatant yes guy call cop bruno right away movie min shorter hello people always make best logical choice many time either person shoe made right choice love god called poetic license however guy see situation found take upon rectify solicit help lie would new wife defense set final show bruno feeling one card play cop shot ting innocent person pre cam corder day rule engagement type thing happen post rodney king world presidential candidate backed police sending bullet unarmed man seen witnessed outrageous police behavior blind application pending academeny back movie go watch try wear post wwii filter pretend seeing great suspense movie like many first time back sure copied since looking one source inspiration many followed', 'watched movie impression going treated cheesy horror flick mean look tag line men turned inside worse still alive scream cheesy horror movie title screamer perfectly apt title horror movie thought unfortunately aware real title properly translated island fishmen hour watching realized cheesy horror movie cheesy adventure story slimy fish men atlantis men turned inside nothing sort grossly disappointed damn misleading taglines want minute life back', 'movie craptacular emotionally uninvolved every single character movie biggest antagonist fact played beautifully throughout promising would walk away drinking another beer hoping would auto magically transform something engrossing along way even state help notice cuba acting flimsy tracing paper obsessive dedication job unconvincingly done well one night binge failure idiot standard burt came screen general right general wear much makeup fell frighteningly fast binge rival cuba except mine real stubbed toe recompense recompense stubbed toe', 'gave film saw see give movie bad funny anyone make film like week pay bad acting effect story cool watch make good movie format', 'totally unfunny movie top pathetic unrealistic throughout whole minute utter torture probably looked watch time lucy bell much higher crap sink low quite depressing admit whole audience laughing hysterically majority greek italian guess humour probably make laugh movie make sick watching slacker make excuse stupid action minute god never get minute back', 'holy cow piece sh movie filmmaker could take word book turn movie guess know either remember farting belching book took time childrens classic added farting belching sexual inuindo prostituted kaka joke give good idea hollywood producer think like say visually interesting brilliant visual story ruined toilet humor even think kind thing funny want kid know think take kid see rent dvd hope ghost doctor sue ghost come haunt people made movie', 'without doubt rajnikanth worst movie ever first part held place solid comedy goundamani progressively get worse worse completely illogical hero also take dig saint name baba corny utterly lame one liner first half rajni uttering usual array oneliners style second half becomes quasi saint beggar take interdimensional portal himalaya babaji famous saint took dig earlier give special power apparent reason karma really starting get interesting rest movie wasting magic boon power fighting politician related black magic usual predictable crap hilarious implementation oh black magic never worked hero happened param vir er shakti chakra bad guy usual politician villain clich overworked end completely insignificant plot go anywhere despite flaw fun kill time yell baba related one liner public event also fun watch others curse movie ar rehman said composed track movie cell phone thats important considered rajni popular japan included two character one called keiko samsung japanese origin movie sake way portrayed dressed treated absolutely pathetic japanese may stop watching rajni movie seeing movie probably promotional material rajni entering politics result movie would killed political dream fun turn brain though', 'watching showtime got impression producer got idea put robert deniro eddie murphy sake film co starred two think reason justify film existence amusing spot certainly concept completely ludicrous laugh somewhat muted thing really got eddie murphy character seem wrap mind around concept someone police officer strictly day job working person new york state crime victim board deal kind cop ran gamut really dedicated real slug think one thought something get career going area far afield mean really see eddie murphy anyone else going rigor real police academy screen version get day job anyway deniro basic hard working detective trail major gun dealer undercover murphy part backup showboating murphy call reality based tv series like cop film action deniro bust get blown sky high producer show get good footage murphy deniro decides new reality based television series unwilling partner get joined try continue working deniro case tv camera around eddie murphy funny guy loved beverly hill cop doctor doolittle movie done better thing showtime robert deniro certainly guess murphy wanted chance work deniro deniro must gotten one hefty paycheck film']\n"
     ]
    }
   ],
   "source": [
    "lem=WordNetLemmatizer()\n",
    "corpus=[]\n",
    "\n",
    "for i in range(len(test)):\n",
    "    review=re.sub('[^a-zA-z]',' ',test['review'][i])\n",
    "    review=review.lower()\n",
    "    review=review.split()\n",
    "    review=[lem.lemmatize(j) for j in review if j not in set(stopwords.words('english'))]\n",
    "    review=' '.join(review)\n",
    "    corpus.append(review)\n",
    "print(corpus)"
   ]
  },
  {
   "cell_type": "code",
   "execution_count": 18,
   "id": "1c6c5fe3",
   "metadata": {},
   "outputs": [
    {
     "data": {
      "text/plain": [
       "200"
      ]
     },
     "execution_count": 18,
     "metadata": {},
     "output_type": "execute_result"
    }
   ],
   "source": [
    "len(corpus)"
   ]
  },
  {
   "cell_type": "code",
   "execution_count": 19,
   "id": "975ac57d",
   "metadata": {},
   "outputs": [
    {
     "name": "stderr",
     "output_type": "stream",
     "text": [
      "C:\\Users\\HP\\anaconda3\\lib\\site-packages\\sklearn\\base.py:310: UserWarning: Trying to unpickle estimator TfidfTransformer from version 1.0.2 when using version 0.24.1. This might lead to breaking code or invalid results. Use at your own risk.\n",
      "  warnings.warn(\n",
      "C:\\Users\\HP\\anaconda3\\lib\\site-packages\\sklearn\\base.py:310: UserWarning: Trying to unpickle estimator TfidfVectorizer from version 1.0.2 when using version 0.24.1. This might lead to breaking code or invalid results. Use at your own risk.\n",
      "  warnings.warn(\n"
     ]
    }
   ],
   "source": [
    "import pickle\n",
    "tf = pickle.load(open('tfidf_ IMDB_Movie_Reviews.sav', 'rb'))"
   ]
  },
  {
   "cell_type": "code",
   "execution_count": 20,
   "id": "b77ca817",
   "metadata": {},
   "outputs": [
    {
     "data": {
      "text/plain": [
       "(200, 25000)"
      ]
     },
     "execution_count": 20,
     "metadata": {},
     "output_type": "execute_result"
    }
   ],
   "source": [
    "x_fresh=tf.transform(corpus).toarray()\n",
    "x_fresh.shape"
   ]
  },
  {
   "cell_type": "code",
   "execution_count": 21,
   "id": "76237971",
   "metadata": {},
   "outputs": [
    {
     "name": "stderr",
     "output_type": "stream",
     "text": [
      "C:\\Users\\HP\\anaconda3\\lib\\site-packages\\sklearn\\base.py:310: UserWarning: Trying to unpickle estimator SVC from version 1.0.2 when using version 0.24.1. This might lead to breaking code or invalid results. Use at your own risk.\n",
      "  warnings.warn(\n"
     ]
    }
   ],
   "source": [
    "classifier = pickle.load(open('SVM_tfidf_ IMDB_Movie_Reviews.sav', 'rb'))"
   ]
  },
  {
   "cell_type": "code",
   "execution_count": 46,
   "id": "b35305d7",
   "metadata": {},
   "outputs": [],
   "source": [
    "#y=df_train['sentiment']\n",
    "from sklearn.preprocessing import LabelEncoder\n",
    "le=LabelEncoder()\n",
    "actual=le.fit_transform(actual)"
   ]
  },
  {
   "cell_type": "code",
   "execution_count": 47,
   "id": "91cdc6c7",
   "metadata": {},
   "outputs": [
    {
     "data": {
      "text/plain": [
       "array([0, 1, 0, 1, 0, 0, 0, 0, 0, 1, 1, 0, 1, 1, 0, 1, 0, 1, 1, 1, 0, 0,\n",
       "       1, 1, 0, 0, 0, 0, 0, 0, 0, 1, 1, 0, 0, 0, 1, 0, 0, 0, 1, 1, 1, 1,\n",
       "       0, 1, 1, 0, 0, 0, 1, 0, 1, 1, 1, 1, 1, 0, 1, 1, 0, 1, 0, 0, 1, 1,\n",
       "       1, 1, 1, 0, 0, 0, 1, 0, 0, 1, 1, 0, 0, 1, 0, 0, 0, 1, 0, 0, 1, 1,\n",
       "       0, 0, 1, 1, 0, 1, 0, 1, 1, 1, 0, 0, 0, 0, 1, 0, 0, 1, 0, 1, 1, 0,\n",
       "       0, 0, 1, 1, 1, 0, 0, 1, 0, 0, 0, 0, 1, 1, 0, 0, 1, 1, 1, 0, 0, 0,\n",
       "       1, 1, 1, 0, 0, 1, 1, 0, 1, 1, 0, 1, 0, 1, 1, 0, 1, 0, 0, 0, 0, 0,\n",
       "       0, 1, 0, 1, 1, 0, 1, 0, 1, 1, 1, 0, 0, 0, 0, 0, 1, 0, 0, 1, 1, 0,\n",
       "       0, 0, 1, 0, 1, 1, 0, 1, 0, 1, 0, 0, 1, 0, 0, 1, 1, 0, 0, 0, 0, 0,\n",
       "       0, 0])"
      ]
     },
     "execution_count": 47,
     "metadata": {},
     "output_type": "execute_result"
    }
   ],
   "source": [
    "actual"
   ]
  },
  {
   "cell_type": "code",
   "execution_count": 48,
   "id": "816678cf",
   "metadata": {},
   "outputs": [
    {
     "data": {
      "text/plain": [
       "0.91"
      ]
     },
     "execution_count": 48,
     "metadata": {},
     "output_type": "execute_result"
    }
   ],
   "source": [
    "classifier.score(x_fresh,actual)"
   ]
  },
  {
   "cell_type": "code",
   "execution_count": 44,
   "id": "924b1439",
   "metadata": {},
   "outputs": [
    {
     "data": {
      "text/plain": [
       "array([0, 1, 0, 1, 0, 0, 0, 0, 0, 1, 1, 0, 1, 1, 0, 1, 0, 1, 1, 1, 0, 0,\n",
       "       1, 1, 0, 0, 0, 0, 0, 0, 0, 1, 1, 0, 0, 0, 1, 0, 0, 0, 1, 1, 1, 0,\n",
       "       0, 1, 0, 0, 0, 1, 1, 0, 0, 1, 1, 1, 0, 0, 1, 1, 0, 1, 0, 0, 1, 1,\n",
       "       1, 1, 1, 0, 0, 0, 1, 0, 0, 1, 1, 0, 0, 1, 0, 0, 0, 1, 0, 0, 1, 1,\n",
       "       0, 0, 1, 1, 0, 0, 0, 1, 1, 1, 0, 0, 0, 0, 1, 1, 0, 1, 0, 1, 1, 0,\n",
       "       0, 0, 1, 1, 0, 0, 0, 1, 0, 1, 0, 0, 1, 1, 0, 0, 0, 1, 1, 0, 0, 0,\n",
       "       1, 1, 1, 0, 0, 1, 1, 0, 1, 0, 0, 1, 0, 1, 1, 0, 1, 0, 0, 1, 0, 0,\n",
       "       0, 1, 0, 1, 0, 0, 1, 0, 1, 1, 1, 0, 1, 0, 0, 0, 1, 0, 1, 1, 1, 0,\n",
       "       0, 1, 1, 0, 1, 1, 0, 1, 0, 1, 0, 1, 1, 1, 0, 1, 1, 0, 0, 0, 0, 0,\n",
       "       0, 0], dtype=int64)"
      ]
     },
     "execution_count": 44,
     "metadata": {},
     "output_type": "execute_result"
    }
   ],
   "source": [
    "y_pred=classifier.predict(x_fresh)\n",
    "y_pred"
   ]
  },
  {
   "cell_type": "code",
   "execution_count": 26,
   "id": "ca0caf9a",
   "metadata": {},
   "outputs": [
    {
     "data": {
      "text/html": [
       "<div>\n",
       "<style scoped>\n",
       "    .dataframe tbody tr th:only-of-type {\n",
       "        vertical-align: middle;\n",
       "    }\n",
       "\n",
       "    .dataframe tbody tr th {\n",
       "        vertical-align: top;\n",
       "    }\n",
       "\n",
       "    .dataframe thead th {\n",
       "        text-align: right;\n",
       "    }\n",
       "</style>\n",
       "<table border=\"1\" class=\"dataframe\">\n",
       "  <thead>\n",
       "    <tr style=\"text-align: right;\">\n",
       "      <th></th>\n",
       "      <th>Unnamed: 0</th>\n",
       "      <th>review</th>\n",
       "      <th>Predicted_label</th>\n",
       "    </tr>\n",
       "  </thead>\n",
       "  <tbody>\n",
       "    <tr>\n",
       "      <th>0</th>\n",
       "      <td>10000</td>\n",
       "      <td>\" While sporadically engrossing (including a f...</td>\n",
       "      <td>0</td>\n",
       "    </tr>\n",
       "    <tr>\n",
       "      <th>1</th>\n",
       "      <td>10001</td>\n",
       "      <td>A French novelist, disgusted by his wife's soc...</td>\n",
       "      <td>1</td>\n",
       "    </tr>\n",
       "    <tr>\n",
       "      <th>2</th>\n",
       "      <td>10002</td>\n",
       "      <td>It must be remembered that the Gammera movies,...</td>\n",
       "      <td>0</td>\n",
       "    </tr>\n",
       "    <tr>\n",
       "      <th>3</th>\n",
       "      <td>10003</td>\n",
       "      <td>I gave this film 8 out of 10, reserving 10 for...</td>\n",
       "      <td>1</td>\n",
       "    </tr>\n",
       "    <tr>\n",
       "      <th>4</th>\n",
       "      <td>10004</td>\n",
       "      <td>Cheap, gloriously bad cheese from the 80's, th...</td>\n",
       "      <td>0</td>\n",
       "    </tr>\n",
       "  </tbody>\n",
       "</table>\n",
       "</div>"
      ],
      "text/plain": [
       "   Unnamed: 0                                             review  \\\n",
       "0       10000  \" While sporadically engrossing (including a f...   \n",
       "1       10001  A French novelist, disgusted by his wife's soc...   \n",
       "2       10002  It must be remembered that the Gammera movies,...   \n",
       "3       10003  I gave this film 8 out of 10, reserving 10 for...   \n",
       "4       10004  Cheap, gloriously bad cheese from the 80's, th...   \n",
       "\n",
       "   Predicted_label  \n",
       "0                0  \n",
       "1                1  \n",
       "2                0  \n",
       "3                1  \n",
       "4                0  "
      ]
     },
     "execution_count": 26,
     "metadata": {},
     "output_type": "execute_result"
    }
   ],
   "source": [
    "test['Predicted_label']=y_pred.tolist()\n",
    "test.head()"
   ]
  },
  {
   "cell_type": "code",
   "execution_count": 29,
   "id": "59ade5ef",
   "metadata": {},
   "outputs": [
    {
     "data": {
      "text/plain": [
       "10000    negative\n",
       "10001    positive\n",
       "10002    negative\n",
       "10003    positive\n",
       "10004    negative\n",
       "Name: sentiment, dtype: object"
      ]
     },
     "execution_count": 29,
     "metadata": {},
     "output_type": "execute_result"
    }
   ],
   "source": [
    "actual.head()"
   ]
  },
  {
   "cell_type": "code",
   "execution_count": 49,
   "id": "d9e12f90",
   "metadata": {},
   "outputs": [],
   "source": [
    "test['actual']=actual"
   ]
  },
  {
   "cell_type": "code",
   "execution_count": 50,
   "id": "5bef6966",
   "metadata": {},
   "outputs": [
    {
     "data": {
      "text/html": [
       "<div>\n",
       "<style scoped>\n",
       "    .dataframe tbody tr th:only-of-type {\n",
       "        vertical-align: middle;\n",
       "    }\n",
       "\n",
       "    .dataframe tbody tr th {\n",
       "        vertical-align: top;\n",
       "    }\n",
       "\n",
       "    .dataframe thead th {\n",
       "        text-align: right;\n",
       "    }\n",
       "</style>\n",
       "<table border=\"1\" class=\"dataframe\">\n",
       "  <thead>\n",
       "    <tr style=\"text-align: right;\">\n",
       "      <th></th>\n",
       "      <th>Unnamed: 0</th>\n",
       "      <th>review</th>\n",
       "      <th>Predicted_label</th>\n",
       "      <th>actual</th>\n",
       "    </tr>\n",
       "  </thead>\n",
       "  <tbody>\n",
       "    <tr>\n",
       "      <th>0</th>\n",
       "      <td>10000</td>\n",
       "      <td>\" While sporadically engrossing (including a f...</td>\n",
       "      <td>0</td>\n",
       "      <td>0</td>\n",
       "    </tr>\n",
       "    <tr>\n",
       "      <th>1</th>\n",
       "      <td>10001</td>\n",
       "      <td>A French novelist, disgusted by his wife's soc...</td>\n",
       "      <td>1</td>\n",
       "      <td>1</td>\n",
       "    </tr>\n",
       "    <tr>\n",
       "      <th>2</th>\n",
       "      <td>10002</td>\n",
       "      <td>It must be remembered that the Gammera movies,...</td>\n",
       "      <td>0</td>\n",
       "      <td>0</td>\n",
       "    </tr>\n",
       "    <tr>\n",
       "      <th>3</th>\n",
       "      <td>10003</td>\n",
       "      <td>I gave this film 8 out of 10, reserving 10 for...</td>\n",
       "      <td>1</td>\n",
       "      <td>1</td>\n",
       "    </tr>\n",
       "    <tr>\n",
       "      <th>4</th>\n",
       "      <td>10004</td>\n",
       "      <td>Cheap, gloriously bad cheese from the 80's, th...</td>\n",
       "      <td>0</td>\n",
       "      <td>0</td>\n",
       "    </tr>\n",
       "    <tr>\n",
       "      <th>...</th>\n",
       "      <td>...</td>\n",
       "      <td>...</td>\n",
       "      <td>...</td>\n",
       "      <td>...</td>\n",
       "    </tr>\n",
       "    <tr>\n",
       "      <th>195</th>\n",
       "      <td>10195</td>\n",
       "      <td>I only gave this film a 4 because I saw it in ...</td>\n",
       "      <td>0</td>\n",
       "      <td>0</td>\n",
       "    </tr>\n",
       "    <tr>\n",
       "      <th>196</th>\n",
       "      <td>10196</td>\n",
       "      <td>This totally UNfunny movie is so over the top ...</td>\n",
       "      <td>0</td>\n",
       "      <td>0</td>\n",
       "    </tr>\n",
       "    <tr>\n",
       "      <th>197</th>\n",
       "      <td>10197</td>\n",
       "      <td>Holy cow, what a piece of sh*t this movie is. ...</td>\n",
       "      <td>0</td>\n",
       "      <td>0</td>\n",
       "    </tr>\n",
       "    <tr>\n",
       "      <th>198</th>\n",
       "      <td>10198</td>\n",
       "      <td>This is without doubt Rajnikanth's worst movie...</td>\n",
       "      <td>0</td>\n",
       "      <td>0</td>\n",
       "    </tr>\n",
       "    <tr>\n",
       "      <th>199</th>\n",
       "      <td>10199</td>\n",
       "      <td>Watching Showtime I got the impression that th...</td>\n",
       "      <td>0</td>\n",
       "      <td>0</td>\n",
       "    </tr>\n",
       "  </tbody>\n",
       "</table>\n",
       "<p>200 rows × 4 columns</p>\n",
       "</div>"
      ],
      "text/plain": [
       "     Unnamed: 0                                             review  \\\n",
       "0         10000  \" While sporadically engrossing (including a f...   \n",
       "1         10001  A French novelist, disgusted by his wife's soc...   \n",
       "2         10002  It must be remembered that the Gammera movies,...   \n",
       "3         10003  I gave this film 8 out of 10, reserving 10 for...   \n",
       "4         10004  Cheap, gloriously bad cheese from the 80's, th...   \n",
       "..          ...                                                ...   \n",
       "195       10195  I only gave this film a 4 because I saw it in ...   \n",
       "196       10196  This totally UNfunny movie is so over the top ...   \n",
       "197       10197  Holy cow, what a piece of sh*t this movie is. ...   \n",
       "198       10198  This is without doubt Rajnikanth's worst movie...   \n",
       "199       10199  Watching Showtime I got the impression that th...   \n",
       "\n",
       "     Predicted_label  actual  \n",
       "0                  0       0  \n",
       "1                  1       1  \n",
       "2                  0       0  \n",
       "3                  1       1  \n",
       "4                  0       0  \n",
       "..               ...     ...  \n",
       "195                0       0  \n",
       "196                0       0  \n",
       "197                0       0  \n",
       "198                0       0  \n",
       "199                0       0  \n",
       "\n",
       "[200 rows x 4 columns]"
      ]
     },
     "execution_count": 50,
     "metadata": {},
     "output_type": "execute_result"
    }
   ],
   "source": [
    "test"
   ]
  },
  {
   "cell_type": "code",
   "execution_count": null,
   "id": "55560c50",
   "metadata": {},
   "outputs": [],
   "source": []
  }
 ],
 "metadata": {
  "kernelspec": {
   "display_name": "Python 3",
   "language": "python",
   "name": "python3"
  },
  "language_info": {
   "codemirror_mode": {
    "name": "ipython",
    "version": 3
   },
   "file_extension": ".py",
   "mimetype": "text/x-python",
   "name": "python",
   "nbconvert_exporter": "python",
   "pygments_lexer": "ipython3",
   "version": "3.8.8"
  }
 },
 "nbformat": 4,
 "nbformat_minor": 5
}
