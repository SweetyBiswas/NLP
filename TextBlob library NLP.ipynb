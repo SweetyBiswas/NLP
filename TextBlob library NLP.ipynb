{
 "cells": [
  {
   "cell_type": "code",
   "execution_count": 1,
   "id": "144b4c4a",
   "metadata": {},
   "outputs": [
    {
     "name": "stdout",
     "output_type": "stream",
     "text": [
      "Requirement already satisfied: textblob in c:\\users\\hp\\anaconda3\\lib\\site-packages (0.17.1)\n",
      "Requirement already satisfied: nltk>=3.1 in c:\\users\\hp\\anaconda3\\lib\\site-packages (from textblob) (3.6.1)\n",
      "Requirement already satisfied: regex in c:\\users\\hp\\anaconda3\\lib\\site-packages (from nltk>=3.1->textblob) (2021.4.4)\n",
      "Requirement already satisfied: joblib in c:\\users\\hp\\anaconda3\\lib\\site-packages (from nltk>=3.1->textblob) (1.0.1)\n",
      "Requirement already satisfied: click in c:\\users\\hp\\anaconda3\\lib\\site-packages (from nltk>=3.1->textblob) (7.1.2)\n",
      "Requirement already satisfied: tqdm in c:\\users\\hp\\anaconda3\\lib\\site-packages (from nltk>=3.1->textblob) (4.59.0)\n"
     ]
    }
   ],
   "source": [
    "!pip install textblob"
   ]
  },
  {
   "cell_type": "code",
   "execution_count": 2,
   "id": "cfae8bd7",
   "metadata": {},
   "outputs": [],
   "source": [
    "from textblob import TextBlob"
   ]
  },
  {
   "cell_type": "code",
   "execution_count": 7,
   "id": "242b13b5",
   "metadata": {},
   "outputs": [],
   "source": [
    "x=TextBlob('How aje you')"
   ]
  },
  {
   "cell_type": "code",
   "execution_count": 8,
   "id": "0649dff6",
   "metadata": {},
   "outputs": [
    {
     "data": {
      "text/plain": [
       "TextBlob(\"Now are you\")"
      ]
     },
     "execution_count": 8,
     "metadata": {},
     "output_type": "execute_result"
    }
   ],
   "source": [
    "x.correct()"
   ]
  },
  {
   "cell_type": "code",
   "execution_count": 9,
   "id": "b98cfd46",
   "metadata": {},
   "outputs": [],
   "source": [
    "y=TextBlob('I havv good spelling')"
   ]
  },
  {
   "cell_type": "code",
   "execution_count": 10,
   "id": "67779bea",
   "metadata": {},
   "outputs": [
    {
     "data": {
      "text/plain": [
       "TextBlob(\"I have good spelling\")"
      ]
     },
     "execution_count": 10,
     "metadata": {},
     "output_type": "execute_result"
    }
   ],
   "source": [
    "y.correct()"
   ]
  },
  {
   "cell_type": "code",
   "execution_count": 13,
   "id": "0d448d51",
   "metadata": {},
   "outputs": [],
   "source": [
    "z=TextBlob('''Kalam was ele as the 11th presi of Inia in 2002 with the suprt of \n",
    "both the rulng Bharatiya Janata Party and the then-oppition Indan Natioal Congress. Widey refred to as the \"Peoe's Presint\"''')"
   ]
  },
  {
   "cell_type": "code",
   "execution_count": 14,
   "id": "a5a32bc5",
   "metadata": {},
   "outputs": [
    {
     "data": {
      "text/plain": [
       "TextBlob(\"Calm was else as the with press of Anna in 2002 with the supra of \n",
       "both the ruling Bharatiya Canada Party and the then-position Indian National Congress. Side reared to as the \"Were's Present\"\")"
      ]
     },
     "execution_count": 14,
     "metadata": {},
     "output_type": "execute_result"
    }
   ],
   "source": [
    "z.correct()"
   ]
  },
  {
   "cell_type": "code",
   "execution_count": null,
   "id": "af7d4958",
   "metadata": {},
   "outputs": [],
   "source": []
  }
 ],
 "metadata": {
  "kernelspec": {
   "display_name": "Python 3",
   "language": "python",
   "name": "python3"
  },
  "language_info": {
   "codemirror_mode": {
    "name": "ipython",
    "version": 3
   },
   "file_extension": ".py",
   "mimetype": "text/x-python",
   "name": "python",
   "nbconvert_exporter": "python",
   "pygments_lexer": "ipython3",
   "version": "3.8.8"
  }
 },
 "nbformat": 4,
 "nbformat_minor": 5
}
